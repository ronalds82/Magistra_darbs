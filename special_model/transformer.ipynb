{
  "cells": [
    {
      "cell_type": "markdown",
      "metadata": {
        "id": "2Mws84wTZqP1"
      },
      "source": [
        "# Specializētā derivatīvās morfoloģijas modeļa prototips"
      ]
    },
    {
      "cell_type": "code",
      "execution_count": null,
      "metadata": {
        "id": "NqDINbOAKodt"
      },
      "outputs": [],
      "source": [
        "# Autors: Ronalds Turnis\n",
        "# Specializēta modeļa inicializācija, pamatapmācība un pielāgošana derivatīvās morfoloģijas vajadzībām latviešu valodā\n",
        "\n",
        "# Importē nepieciešamās bibliotēkas\n",
        "import os, math, random, optuna, csv, urllib.parse, requests\n",
        "import torch, torch.nn as nn\n",
        "import torch.optim as optim\n",
        "import pandas as pd\n",
        "from torch.optim import AdamW\n",
        "from torch.utils.data import Dataset, DataLoader\n",
        "from torch.utils.tensorboard import SummaryWriter\n",
        "from transformers import PreTrainedTokenizer\n",
        "from torch.optim.lr_scheduler import CosineAnnealingWarmRestarts, ReduceLROnPlateau\n",
        "from torch.amp import autocast, GradScaler\n",
        "from tqdm import tqdm\n",
        "from sklearn.model_selection import train_test_split\n",
        "from optuna.exceptions import TrialPruned\n",
        "from torch.utils.data import Subset\n",
        "from peft import LoraConfig, get_peft_model, PeftModel\n",
        "\n",
        "# TF32 režīms ātrākiem aprēķiniem\n",
        "torch.backends.cuda.matmul.allow_tf32 = True\n",
        "torch.set_float32_matmul_precision(\"high\")\n",
        "\n",
        "# Slēdži\n",
        "run_optuna = False # Optuna hiperparametru algoritma slēdzis\n",
        "pretrain = False # Pamatapmācības slēdzis\n",
        "finetune = True # Pielāgošanas slēdzis\n",
        "experiment = True # Eksperimenta izpildes slēdzis\n",
        "\n",
        "# Fiksēta sēkla rezultātu atkārtojamībai\n",
        "def set_seed(seed = 42):\n",
        "    random.seed(seed)\n",
        "    torch.manual_seed(seed)\n",
        "    torch.cuda.manual_seed_all(seed)\n",
        "    torch.backends.cudnn.deterministic = True\n",
        "    torch.backends.cudnn.benchmark = False\n",
        "\n",
        "set_seed()"
      ]
    },
    {
      "cell_type": "markdown",
      "metadata": {
        "id": "9MNCmrQnZyKW"
      },
      "source": [
        "# Tekstvienību apstrādes klase"
      ]
    },
    {
      "cell_type": "code",
      "execution_count": 2,
      "metadata": {
        "id": "aapNR8jPZokq"
      },
      "outputs": [],
      "source": [
        "class CustomCharTokenizer(PreTrainedTokenizer):\n",
        "    def __init__(self, vocab, unk_token=\"[UNK]\", pad_token=\"[PAD]\", sos_token=\"[SOS]\", eos_token=\"[EOS]\"):\n",
        "        object.__setattr__(self, \"_vocab\", vocab)\n",
        "        object.__setattr__(self, \"_vocab_size\", len(vocab))\n",
        "\n",
        "        # Inicializē speciālās tekstvienības\n",
        "        super().__init__(unk_token=unk_token, pad_token=pad_token, sos_token=sos_token, eos_token=eos_token)\n",
        "\n",
        "        # Izveido kartējumu \"tekstvienības ID -> tekstvienība\"\n",
        "        self.ids_to_tokens = {i: token for token, i in vocab.items()}\n",
        "\n",
        "        # Saglabā speciālās tekstvienības\n",
        "        self.unk_token = unk_token\n",
        "        self.pad_token = pad_token\n",
        "        self.sos_token = sos_token\n",
        "        self.eos_token = eos_token\n",
        "\n",
        "    @property\n",
        "    def vocab(self):\n",
        "        return self._vocab\n",
        "\n",
        "    @property\n",
        "    def vocab_size(self):\n",
        "        return self._vocab_size\n",
        "\n",
        "    @property\n",
        "    def pad_token_id(self):\n",
        "        return self._vocab.get(self.pad_token)\n",
        "\n",
        "    def get_vocab(self):\n",
        "        return self._vocab\n",
        "\n",
        "    def _tokenize(self, text):\n",
        "        return list(text.lower()) # Ievades un izvades secības ir ar mazajiem alfabēta burtiem\n",
        "\n",
        "    def _convert_token_to_id(self, token):\n",
        "        return self._vocab.get(token, self._vocab.get(self.unk_token)) # Ja tekstvienības nav vārdnīcā, atgriež UNK\n",
        "\n",
        "    def _convert_id_to_token(self, index):\n",
        "        return self.ids_to_tokens.get(index, self.unk_token) # Atgriež tekstvienību pēc ID\n",
        "\n",
        "    def convert_tokens_to_string(self, tokens):\n",
        "        return \"\".join(tokens) # Savieno tekstvienības vienā teksta virknē\n",
        "\n",
        "    def encode(self, text, max_length=32):\n",
        "        # Pārvērš ievades secību uz tekstvienību secību\n",
        "        tokens = self._tokenize(text)\n",
        "        ids = [self._convert_token_to_id(t) for t in tokens]\n",
        "\n",
        "        # Apgriež secību līdz 30 tekstvienībām\n",
        "        body = ids[: max_length - 2]\n",
        "\n",
        "        # Pievieno speciālās tekstvienības (kopā 32 tekstvienību secība)\n",
        "        return [self._vocab[self.sos_token]] + body + [self._vocab[self.eos_token]]\n",
        "\n",
        "\n",
        "    def decode(self, token_ids):\n",
        "        # Atgriež tekstvienību secību no tekstvienību ID secības\n",
        "        tokens = [self._convert_id_to_token(i) for i in token_ids]\n",
        "\n",
        "        # Noņem SOS, EOS un PAD, lai netraucētu izvades secības lasāmībai\n",
        "        skip = {self.sos_token, self.eos_token, self.pad_token}\n",
        "        tokens = [t for t in tokens if t not in skip]\n",
        "\n",
        "        # Atgriež tekstu\n",
        "        return self.convert_tokens_to_string(tokens)\n",
        "\n",
        "# Vārdnīcas definēšana\n",
        "latvian_letters = list(\"aābcčdeēfgģhiījkķlļmnņoprsštuūvzž\")\n",
        "digits = list(\"0123456789\")\n",
        "additional_symbols = list(\"-\")\n",
        "special_tokens = [\"[UNK]\", \"[PAD]\", \"[SOS]\", \"[EOS]\"]\n",
        "\n",
        "# Apvieno visas tekstvienības vienā sarakstā\n",
        "vocab_tokens = special_tokens + latvian_letters + digits + additional_symbols\n",
        "\n",
        "# Izveido vārdnīcu ar unikāliem indeksiem\n",
        "vocab_dict = {token: idx for idx, token in enumerate(vocab_tokens)}\n",
        "\n",
        "# Inicializē tekstvienību apstrādes instanci\n",
        "tokenizer = CustomCharTokenizer(vocab_dict)"
      ]
    },
    {
      "cell_type": "markdown",
      "metadata": {
        "id": "0hFJ41GAMUG8"
      },
      "source": [
        "# Datu kopu apstrādes klase"
      ]
    },
    {
      "cell_type": "code",
      "execution_count": 3,
      "metadata": {
        "id": "2FjO72U7MchF"
      },
      "outputs": [],
      "source": [
        "class WordPairDataset(Dataset):\n",
        "    def __init__(self, dataframe: pd.DataFrame, tokenizer, max_length = 32):\n",
        "        # Pārvērš \"Lemma\" un \"Word\" kolonnās esošos datus par sarakstiem\n",
        "        self.lemmas = dataframe[\"Lemma\"].astype(str).tolist()\n",
        "        self.words = dataframe[\"Word\"].astype(str).tolist()\n",
        "        self.tokenizer = tokenizer\n",
        "        self.max_length = max_length\n",
        "        del dataframe # Atbrīvo atmiņu no dataframe pēc apstrādes\n",
        "\n",
        "    def __len__(self):\n",
        "        return len(self.lemmas)\n",
        "\n",
        "    def __getitem__(self, idx):\n",
        "        # Pārveido saņemto pāri par tekstvienību secībām un atgriež kā tenzorus\n",
        "        lemma_ids = self.tokenizer.encode(self.lemmas[idx], self.max_length)\n",
        "        word_ids = self.tokenizer.encode(self.words[idx], self.max_length)\n",
        "        return torch.tensor(lemma_ids, dtype=torch.long), torch.tensor(word_ids, dtype=torch.long)\n",
        "\n",
        "# Funkcija, kas nodrošina, ka visas secības vienā datu porcijā ir vienāda garuma, aizpildot ar PAD tekstvienību\n",
        "def collate_fn(batch):\n",
        "    lemmas, targets = zip(*batch)\n",
        "    pad_id = tokenizer.pad_token_id\n",
        "\n",
        "    # Atrod garāko secību katrā gadījumā\n",
        "    max_lemma_len = max(len(x) for x in lemmas)\n",
        "    max_target_len = max(len(x) for x in targets)\n",
        "\n",
        "    # Pagarina īsākās secības līdz noteiktajam garumam un atgriež rezultātu\n",
        "    lemmas_padded = [torch.cat([x, torch.full((max_lemma_len - len(x),), pad_id, dtype=torch.long)]) for x in lemmas]\n",
        "    targets_padded = [torch.cat([x, torch.full((max_target_len - len(x),), pad_id, dtype=torch.long)]) for x in targets]\n",
        "    return torch.stack(lemmas_padded), torch.stack(targets_padded)"
      ]
    },
    {
      "cell_type": "markdown",
      "metadata": {
        "id": "aCa-i1h9aUU1"
      },
      "source": [
        "# Modeļa izveide"
      ]
    },
    {
      "cell_type": "code",
      "execution_count": 4,
      "metadata": {
        "id": "7zAzuo-6aZ5E"
      },
      "outputs": [],
      "source": [
        "# Pozicionālā kodējuma izveide\n",
        "class PositionalEncoding(nn.Module):\n",
        "    def __init__(self, d_model: int, max_len: int = 32):\n",
        "        super().__init__()\n",
        "        # Izveido sākotnējo pozīciju tabulu (max_len x d_model), sākumā ar nullēm\n",
        "        pe = torch.zeros(max_len, d_model)\n",
        "\n",
        "        # Pozīciju vektora izveide\n",
        "        position = torch.arange(0, max_len, dtype=torch.float).unsqueeze(1)\n",
        "\n",
        "        # Frekvenču skaitītājs\n",
        "        div_term = torch.exp(torch.arange(0, d_model, 2, dtype=torch.float) * (-math.log(10000.0) / d_model))\n",
        "\n",
        "        # Pāra dimensijām sinuss\n",
        "        pe[:, 0::2] = torch.sin(position * div_term)\n",
        "\n",
        "        # Nepāra dimensijām kosinuss\n",
        "        if d_model % 2 == 1:\n",
        "            pe[:, 1::2] = torch.cos(position * div_term[: pe[:, 1::2].shape[1]])\n",
        "        else:\n",
        "            pe[:, 1::2] = torch.cos(position * div_term)\n",
        "\n",
        "        pe = pe.unsqueeze(0)\n",
        "        self.register_buffer(\"pe\", pe) # saglabā pe kā nemainīgu daļu no modeļa\n",
        "\n",
        "    def forward(self, x):\n",
        "        # Pievieno pozicionālo kodējumu reprezentācijām\n",
        "        return x + self.pe[:, :x.size(1)]\n",
        "\n",
        "# Kodētāja-dekodētāja modeļa klases definēšana\n",
        "class CustomTransformerModel(nn.Module):\n",
        "    def __init__(self, vocab_size, d_model=192, nhead=12, num_encoder_layers=2, num_decoder_layers=4, dim_feedforward=768, dropout=0.2, max_len=32):\n",
        "        super(CustomTransformerModel, self).__init__()\n",
        "        self.d_model = d_model\n",
        "\n",
        "        # Pārvērš katru tekstvienības ID par {d_model} dimensiju vektoru\n",
        "        self.embedding = nn.Embedding(vocab_size, d_model)\n",
        "\n",
        "        # Slāņu normalizācija\n",
        "        self.embed_ln = nn.LayerNorm(d_model)\n",
        "\n",
        "        # Pozicionālā kodēšana tiek izmantota gan kodētājā, gan dekodētājā\n",
        "        self.pos_encoder = PositionalEncoding(d_model, max_len)\n",
        "        self.pos_decoder = PositionalEncoding(d_model, max_len)\n",
        "\n",
        "        # Inicializē transformera komponenti ar noteiktajiem parametriem\n",
        "        self.transformer = nn.Transformer(d_model, nhead, num_encoder_layers, num_decoder_layers, dim_feedforward, dropout, batch_first=True)\n",
        "\n",
        "        # Lineārais slānis, lai no transformera izejas atgrieztu varbūtības katram tekstvienības ID\n",
        "        self.fc_out = nn.Linear(d_model, vocab_size)\n",
        "\n",
        "    def generate_square_subsequent_mask(self, sz):\n",
        "        # Izveido masku, lai dekodētājs nespētu skatīties nākamās tekstvienības ģenerēšanas laikā\n",
        "        mask = torch.triu(torch.ones(sz, sz), diagonal=1).bool()\n",
        "        return mask\n",
        "\n",
        "    def forward(self, src, tgt, src_key_padding_mask=None, tgt_key_padding_mask=None, tgt_mask=None):\n",
        "        # Iegūst reprezentācijas un pozicionālos kodējumus ievades un mērķa secībām\n",
        "        src_emb = self.embed_ln(self.embedding(src)) * math.sqrt(self.d_model)\n",
        "        src_emb = self.pos_encoder(src_emb)\n",
        "        tgt_emb = self.embed_ln(self.embedding(tgt)) * math.sqrt(self.d_model)\n",
        "        tgt_emb = self.pos_decoder(tgt_emb)\n",
        "\n",
        "        # Izveido dekodētāja masku, lai nodrošinātu atbilstošu tekstvienību ģenerēšanu\n",
        "        tgt_mask = self.generate_square_subsequent_mask(tgt_emb.size(1)).to(tgt_emb.device)\n",
        "\n",
        "        # Iegūst izvadi\n",
        "        output = self.transformer(src_emb, tgt_emb, tgt_mask=tgt_mask, src_key_padding_mask=src_key_padding_mask, tgt_key_padding_mask=tgt_key_padding_mask)\n",
        "\n",
        "        # Projekcija uz vārdnīcas izmēra dimensiju izvada noteikšanai\n",
        "        return self.fc_out(output)\n",
        "\n",
        "# Iegūstam vārdnīcas izmēru un inicializējam modeli uz GPU, ja tas ir pieejams\n",
        "vocab_size = tokenizer.vocab_size\n",
        "device = torch.device(\"cuda\" if torch.cuda.is_available() else \"cpu\")\n",
        "model = CustomTransformerModel(vocab_size).to(device)\n",
        "criterion = nn.CrossEntropyLoss(label_smoothing=0.01, ignore_index=tokenizer.pad_token_id) # PAD tokenam zaudējums netiek skaitīts"
      ]
    },
    {
      "cell_type": "markdown",
      "metadata": {
        "id": "4ZU9LS08Mt5M"
      },
      "source": [
        "# Apmācības un vērtēšanas funkcijas"
      ]
    },
    {
      "cell_type": "code",
      "execution_count": 5,
      "metadata": {
        "id": "-UeTyPgwMvsL"
      },
      "outputs": [],
      "source": [
        "writer = SummaryWriter(log_dir=\"runs\")\n",
        "ckpt_dir = \"checkpoints\"\n",
        "os.makedirs(ckpt_dir, exist_ok=True)\n",
        "global_step = 0\n",
        "scaler = GradScaler()\n",
        "\n",
        "# Apmācības cikls\n",
        "def train_model(model, dataloader, optimizer, device, val_loader=None, log_every=10000):\n",
        "    global global_step\n",
        "    model.train()\n",
        "    running_loss = 0.0 # kumulatīvais zaudējums pa datu porcijām\n",
        "\n",
        "    # Iterācija caur datu porcijām\n",
        "    for i, (src, tgt) in enumerate(tqdm(dataloader, desc=\"Train\", leave=False)):\n",
        "        # Datu porcijas sagatavošana\n",
        "        src, tgt = src.to(device), tgt.to(device)\n",
        "        tgt_in, tgt_gold = tgt[:, :-1], tgt[:, 1:]\n",
        "\n",
        "        # Maskas PAD tekstvienībām\n",
        "        src_mask = (src == tokenizer.pad_token_id)\n",
        "        tgt_mask = (tgt_in == tokenizer.pad_token_id)\n",
        "\n",
        "        optimizer.zero_grad()\n",
        "\n",
        "        with autocast(device_type=device.type, enabled=(device.type==\"cuda\")):\n",
        "             out = model(src, tgt_in, src_key_padding_mask=src_mask, tgt_key_padding_mask=tgt_mask)\n",
        "             loss = criterion(out.reshape(-1, vocab_size), tgt_gold.reshape(-1))\n",
        "\n",
        "        scaler.scale(loss).backward()\n",
        "        scaler.unscale_(optimizer)\n",
        "        torch.nn.utils.clip_grad_norm_(model.parameters(), 1.0)\n",
        "        scaler.step(optimizer)\n",
        "\n",
        "        if scheduler is not None:\n",
        "            scheduler.step()\n",
        "\n",
        "        scaler.update()\n",
        "\n",
        "        # Palielina kumulatīvo zaudējumu un skaitītāju\n",
        "        running_loss += loss.item()\n",
        "        global_step += 1\n",
        "\n",
        "        # Validācija ik pēc noteiktu soļu skaita\n",
        "        if val_loader and global_step % log_every == 0:\n",
        "            train_loss = running_loss / log_every\n",
        "            val_loss = evaluate_loss(model, val_loader, device)\n",
        "\n",
        "            # Fiksē rezultātus\n",
        "            if writer is not None:\n",
        "                writer.add_scalar(\"loss/train_step\", train_loss, global_step)\n",
        "                writer.add_scalar(\"loss/val_step\", val_loss, global_step)\n",
        "\n",
        "            print(f\"step {global_step}: train = {train_loss:.4f} | val = {val_loss:.4f}\")\n",
        "\n",
        "            # Saglabā modeli ik pēc noteiktā soļu skaita kā pieturpunktu\n",
        "            if ckpt_dir is not None:\n",
        "                torch.save(model.state_dict(), f\"{ckpt_dir}/step_{global_step}\"f\"_tr{train_loss:.3f}_val{val_loss:.3f}.pth\")\n",
        "\n",
        "            running_loss = 0.0 # atiestata kumulatīvo skaitītāju\n",
        "\n",
        "    # Atgriež iterācijas vidējo apmācības zaudējumu\n",
        "    return running_loss / len(dataloader)\n",
        "\n",
        "\n",
        "# Apmācība un validācija\n",
        "def train_and_validate(stage, train_loader, val_loader, optimizer, epochs, patience=0,\n",
        "                       best_val_loss=float(\"inf\"), prev_val_loss = 0, slow_count = 0, beam_k = 5, min_delta=0.005):\n",
        "    use_early_stop = (patience > 0) # Agrā apstāšanās tikai tad, ja tā tiek iestatīta\n",
        "\n",
        "    # Apmācības iterācija\n",
        "    for ep in range(epochs):\n",
        "        # Modeļa apmācība\n",
        "        tr_loss = train_model(model, train_loader, optimizer, device, val_loader)\n",
        "\n",
        "        # Zaudējuma aprēķināšana un modeļa novērtēšana\n",
        "        val_loss = evaluate_loss(model, val_loader, device)\n",
        "\n",
        "        if scheduler is not None:\n",
        "            if isinstance(scheduler, ReduceLROnPlateau):\n",
        "                scheduler.step(val_loss)\n",
        "            else:\n",
        "                scheduler.step()\n",
        "\n",
        "        # Piefiksē mērījumu vērtības un izprintē tās\n",
        "        if writer is not None:\n",
        "            writer.add_scalars(f\"{stage}/loss\", {\"train\": tr_loss, \"val\": val_loss}, ep)\n",
        "        print(f\"{stage} {ep}/{epochs} | train_loss: {tr_loss:.4f} | val_loss: {val_loss:.4f}\")\n",
        "\n",
        "        # Ja netiek lietota agrā apstāšanās, turpina ar nākamajiem soļiem\n",
        "        if not use_early_stop:\n",
        "            continue\n",
        "\n",
        "        improvement = best_val_loss - val_loss\n",
        "        if improvement < min_delta:\n",
        "            slow_count += 1\n",
        "        else:\n",
        "            slow_count = 0\n",
        "\n",
        "        if improvement > 0:\n",
        "            best_val_loss = val_loss\n",
        "\n",
        "        # Ja 3× pēc kārtas zaudējums samazinās pārāk lēni, pārtrauc\n",
        "        if slow_count >= patience:\n",
        "            print(\"Notika agrā apstāšanās\")\n",
        "            break\n",
        "\n",
        "# Funkcija, kas aprēķina vidējo zaudējumu validācijas kopai\n",
        "def evaluate_loss(model, dataloader, device):\n",
        "    model.eval()\n",
        "    total_loss = torch.tensor(0.0, device=device)\n",
        "    count = 0\n",
        "    with torch.no_grad(), autocast(device_type=device.type, enabled=(device.type==\"cuda\")):\n",
        "        for src, tgt in dataloader:\n",
        "            src, tgt = src.to(device), tgt.to(device)\n",
        "            tgt_in  = tgt[:, :-1]\n",
        "            tgt_gold= tgt[:,  1:]\n",
        "            src_mask = (src == tokenizer.pad_token_id)\n",
        "            tgt_mask = (tgt_in == tokenizer.pad_token_id)\n",
        "            out = model(src, tgt_in, src_key_padding_mask=src_mask, tgt_key_padding_mask=tgt_mask)\n",
        "            loss = criterion(out.view(-1, out.size(-1)), tgt_gold.reshape(-1))\n",
        "            total_loss += loss\n",
        "            count += 1\n",
        "    return (total_loss / count).item()\n"
      ]
    },
    {
      "cell_type": "markdown",
      "metadata": {
        "id": "GMYE_4Zzfprz"
      },
      "source": [
        "# Kandidātu ģenerēšana un atbildēšana"
      ]
    },
    {
      "cell_type": "code",
      "execution_count": 6,
      "metadata": {
        "id": "kVGcNxIHfsaG"
      },
      "outputs": [],
      "source": [
        "# Atgriež beam search izveidotu sarakstu ar {num_beams} labākajām ģenerētajām virknēm teksta formā.\n",
        "@torch.no_grad()\n",
        "def beam_generate(model, src, max_len=32, num_beams=5):\n",
        "    # Mainīgo sagatavošana\n",
        "    device = src.device\n",
        "    beams = [(torch.tensor([[tokenizer._vocab[\"[SOS]\"]]], device=device), 0.0)]\n",
        "    finished = []\n",
        "\n",
        "    # Iterē max_length garumā\n",
        "    for _ in range(max_len):\n",
        "        new_beams = []\n",
        "\n",
        "        for seq, score in beams:\n",
        "            # Ja pēdējā tekstvienība ir EOS, secība ir pabeigta\n",
        "            if seq[0, -1].item() == tokenizer._vocab[\"[EOS]\"]:\n",
        "                finished.append((seq, score))\n",
        "                continue\n",
        "\n",
        "            # Uztaisa masku dekoderim, lai neredz nākamās tekstvienības\n",
        "            tgt_mask = model.generate_square_subsequent_mask(seq.size(1)).to(device)\n",
        "\n",
        "            # Iegūst varbūtības tekstvienībām\n",
        "            logits = model(src, seq,\n",
        "                           src_key_padding_mask=(src == tokenizer.pad_token_id),\n",
        "                           tgt_key_padding_mask=(seq == tokenizer.pad_token_id),\n",
        "                           tgt_mask=tgt_mask)[:, -1]\n",
        "\n",
        "            # Pārvērš logitus par log-varbūtībām\n",
        "            logp = torch.log_softmax(logits, -1)[0]\n",
        "\n",
        "            # Izvēlas top {num_beams} kandidātus no log-varbūtībām\n",
        "            top_p, top_i = torch.topk(logp, num_beams)\n",
        "\n",
        "            # Veido jaunu beamu katram top kandidātam\n",
        "            for p, idx in zip(top_p, top_i):\n",
        "                new_seq = torch.cat([seq, idx.view(1,1)], 1)\n",
        "                new_beams.append((new_seq, score + p.item()))\n",
        "        beams = sorted(new_beams, key=lambda x: x[1], reverse=True)[:num_beams]\n",
        "        if not beams: break\n",
        "\n",
        "    # Apvieno un sakārto pabeigtās secības\n",
        "    finished += beams\n",
        "    finished = sorted(finished, key=lambda x: x[1], reverse=True)[:num_beams]\n",
        "\n",
        "    # Atgriež dekodētās secības kā tekstu, izņemot SOS/EOS/PAD tekstvienības\n",
        "    return [\n",
        "        tokenizer.decode(seq[0].tolist())\n",
        "        for seq, _ in finished\n",
        "    ]"
      ]
    },
    {
      "cell_type": "markdown",
      "metadata": {
        "id": "_PywM8aQMmTu"
      },
      "source": [
        "# *Optuna* hiperparametru optimizācijas algoritms"
      ]
    },
    {
      "cell_type": "code",
      "execution_count": 7,
      "metadata": {
        "id": "GPhxu16jMlBC"
      },
      "outputs": [],
      "source": [
        "# Iespējamās vērtības un to amplitūdas modeļa hiperparametriem un arhitektūrai\n",
        "D_MODELS        = [64, 96, 128, 192, 256]\n",
        "N_HEADS         = [2, 4, 6, 8, 12]\n",
        "ENC_LAYERS      = [2, 4, 6]\n",
        "DEC_LAYERS      = [2, 4, 6]\n",
        "DIM_FF          = [2, 4, 6]\n",
        "DROPOUT_BOUNDS  = (0.05, 0.5)\n",
        "LR_BOUNDS       = (1e-6, 1e-3)\n",
        "WDECAY_BOUNDS   = (1e-6, 1e-3)\n",
        "\n",
        "def objective(trial: optuna.Trial):\n",
        "    # Hiperparametru izloze\n",
        "    d_model         = trial.suggest_categorical(\"d_model\", D_MODELS)\n",
        "    nhead           = trial.suggest_categorical(\"nhead\", N_HEADS)\n",
        "    num_enc_layers  = trial.suggest_categorical(\"num_encoder_layers\", ENC_LAYERS)\n",
        "    num_dec_layers  = trial.suggest_categorical(\"num_decoder_layers\", DEC_LAYERS)\n",
        "    dim_feedforward = trial.suggest_categorical(\"dim_ff\", DIM_FF)\n",
        "    dropout         = trial.suggest_float(\"dropout\", *DROPOUT_BOUNDS)\n",
        "    lr              = trial.suggest_float(\"lr\", *LR_BOUNDS, log=True)\n",
        "    weight_decay    = trial.suggest_float(\"weight_decay\", *WDECAY_BOUNDS, log=True)\n",
        "\n",
        "    # Nederīgo konfigurāciju atmešana (d_model jābūt dalāmam ar nhead)\n",
        "    if d_model % nhead != 0:\n",
        "        raise TrialPruned()\n",
        "\n",
        "    # Modeļa inicializēšana ar izvēlētajiem hiperparametriem\n",
        "    model = CustomTransformerModel(\n",
        "        vocab_size=vocab_size,\n",
        "        d_model=d_model,\n",
        "        nhead=nhead,\n",
        "        num_encoder_layers=num_enc_layers,\n",
        "        num_decoder_layers=num_dec_layers,\n",
        "        dim_feedforward=dim_feedforward,\n",
        "        dropout=dropout\n",
        "    ).to(device)\n",
        "    optimizer = optim.AdamW(model.parameters(), lr=lr, weight_decay=weight_decay)\n",
        "\n",
        "    # Ātra apmācība un validācija uz mazas datu kopas\n",
        "    train_model(model, small_train_loader, optimizer, device, val_loader=None)\n",
        "    val_loss = evaluate_loss(model, small_val_loader, device)\n",
        "\n",
        "    return val_loss\n",
        "\n",
        "if run_optuna:\n",
        "    # Nolasa pamatapmācības datni\n",
        "    pretraining_df = pd.read_csv(\"LVK2022_filtrets.csv\", sep=\",\", encoding=\"utf-8-sig\")\n",
        "\n",
        "    # Sadala pamatapmācības datu kopu 95% apmācībai un 5% validācijai\n",
        "    pretraining_train_df, pretraining_val_df = train_test_split(pretraining_df, test_size=0.05)\n",
        "\n",
        "    # Izveido dataset un dataloader mainīgos\n",
        "    pretraining_train_dataset = WordPairDataset(pretraining_train_df, tokenizer)\n",
        "    pretraining_val_dataset = WordPairDataset(pretraining_val_df, tokenizer)\n",
        "\n",
        "    # Izmanto tikai 1/1000 daļu no pamatapmācības datu kopas ātrākai konfigurāciju meklēšanai\n",
        "    train_subset_idx = list(range(len(pretraining_train_dataset) // 1000))\n",
        "    val_subset_idx = list(range(len(pretraining_val_dataset) // 1000))\n",
        "    small_train_loader = DataLoader(Subset(pretraining_train_dataset, train_subset_idx), batch_size=256, shuffle=True, collate_fn=collate_fn)\n",
        "    small_val_loader = DataLoader(Subset(pretraining_val_dataset, val_subset_idx), batch_size=256, shuffle=False, collate_fn=collate_fn)\n",
        "\n",
        "    # Optuna parametru sagatavošana\n",
        "    pruner = optuna.pruners.MedianPruner(n_warmup_steps=5)\n",
        "    sampler = optuna.samplers.TPESampler(seed=42)\n",
        "    study = optuna.create_study(direction=\"minimize\", pruner=pruner, sampler=sampler)\n",
        "\n",
        "    # Hiperparametru optimizācija 50 mēģinājumos\n",
        "    study.optimize(objective, n_trials=50)\n",
        "\n",
        "    print(\"Labākie parametri:\", study.best_params)\n"
      ]
    },
    {
      "cell_type": "markdown",
      "metadata": {
        "id": "6aG5A_xdafC2"
      },
      "source": [
        "# Pamatapmācība"
      ]
    },
    {
      "cell_type": "code",
      "execution_count": 8,
      "metadata": {
        "id": "WGk5XkEVam1I"
      },
      "outputs": [],
      "source": [
        "if pretrain:\n",
        "    # Nolasa pamatapmācības datni\n",
        "    pretraining_df = pd.read_csv(\"LVK2022_filtrets.csv\", sep=\",\", encoding=\"utf-8-sig\")\n",
        "\n",
        "    # Sadala pamatapmācības datu kopu 95% apmācībai un 5% validācijai\n",
        "    pretraining_train_df, pretraining_val_df = train_test_split(pretraining_df, test_size=0.05)\n",
        "\n",
        "    # Izveido dataset un dataloader mainīgos\n",
        "    pretraining_train_dataset = WordPairDataset(pretraining_train_df, tokenizer)\n",
        "    pretraining_val_dataset = WordPairDataset(pretraining_val_df, tokenizer)\n",
        "    pretraining_train_loader = DataLoader(pretraining_train_dataset, batch_size=256, shuffle=True, collate_fn=collate_fn, num_workers=0, pin_memory=False)\n",
        "    pretraining_val_loader = DataLoader(pretraining_val_dataset, batch_size=256, shuffle=False, collate_fn=collate_fn, num_workers=0, pin_memory=False)\n",
        "\n",
        "    # Modeļa pamatapmācības cikls\n",
        "    num_pretrain_epochs = 1\n",
        "    optimizer = optim.AdamW(model.parameters(), lr=4e-4, weight_decay=1e-2)\n",
        "    total_steps = len(pretraining_train_loader)\n",
        "    scheduler = CosineAnnealingWarmRestarts(optimizer, T_0 = total_steps // 2, T_mult = 1, eta_min = 1e-6)\n",
        "    train_and_validate(\"Pretrained\", pretraining_train_loader, pretraining_val_loader, optimizer, epochs=num_pretrain_epochs)\n",
        "\n",
        "    # Saglabā pamatapmācītā modeļa svarus\n",
        "    torch.save(model.state_dict(), \"Pretrained.pth\")"
      ]
    },
    {
      "cell_type": "markdown",
      "metadata": {
        "id": "oNki--eBNA_m"
      },
      "source": [
        "# Modeļa pielāgošana"
      ]
    },
    {
      "cell_type": "code",
      "execution_count": 9,
      "metadata": {
        "colab": {
          "base_uri": "https://localhost:8080/"
        },
        "id": "HbgY5ciwM_s4",
        "outputId": "5d875e66-6202-4016-d65c-1de9b4cd80ba"
      },
      "outputs": [
        {
          "name": "stderr",
          "output_type": "stream",
          "text": []
        },
        {
          "name": "stdout",
          "output_type": "stream",
          "text": [
            "parveidojums_1 0/50 | train_loss: 1.6452 | val_loss: 1.0830\n"
          ]
        },
        {
          "name": "stderr",
          "output_type": "stream",
          "text": []
        },
        {
          "name": "stdout",
          "output_type": "stream",
          "text": [
            "parveidojums_1 1/50 | train_loss: 1.0240 | val_loss: 0.4909\n"
          ]
        },
        {
          "name": "stderr",
          "output_type": "stream",
          "text": []
        },
        {
          "name": "stdout",
          "output_type": "stream",
          "text": [
            "parveidojums_1 2/50 | train_loss: 0.7075 | val_loss: 0.2839\n"
          ]
        },
        {
          "name": "stderr",
          "output_type": "stream",
          "text": []
        },
        {
          "name": "stdout",
          "output_type": "stream",
          "text": [
            "parveidojums_1 3/50 | train_loss: 0.5555 | val_loss: 0.2651\n"
          ]
        },
        {
          "name": "stderr",
          "output_type": "stream",
          "text": []
        },
        {
          "name": "stdout",
          "output_type": "stream",
          "text": [
            "parveidojums_1 4/50 | train_loss: 0.5364 | val_loss: 0.2547\n"
          ]
        },
        {
          "name": "stderr",
          "output_type": "stream",
          "text": []
        },
        {
          "name": "stdout",
          "output_type": "stream",
          "text": [
            "parveidojums_1 5/50 | train_loss: 0.4819 | val_loss: 0.2457\n"
          ]
        },
        {
          "name": "stderr",
          "output_type": "stream",
          "text": []
        },
        {
          "name": "stdout",
          "output_type": "stream",
          "text": [
            "parveidojums_1 6/50 | train_loss: 0.4974 | val_loss: 0.2337\n"
          ]
        },
        {
          "name": "stderr",
          "output_type": "stream",
          "text": []
        },
        {
          "name": "stdout",
          "output_type": "stream",
          "text": [
            "parveidojums_1 7/50 | train_loss: 0.4853 | val_loss: 0.2316\n"
          ]
        },
        {
          "name": "stderr",
          "output_type": "stream",
          "text": []
        },
        {
          "name": "stdout",
          "output_type": "stream",
          "text": [
            "parveidojums_1 8/50 | train_loss: 0.4599 | val_loss: 0.2209\n"
          ]
        },
        {
          "name": "stderr",
          "output_type": "stream",
          "text": []
        },
        {
          "name": "stdout",
          "output_type": "stream",
          "text": [
            "parveidojums_1 9/50 | train_loss: 0.4145 | val_loss: 0.2147\n"
          ]
        },
        {
          "name": "stderr",
          "output_type": "stream",
          "text": []
        },
        {
          "name": "stdout",
          "output_type": "stream",
          "text": [
            "parveidojums_1 10/50 | train_loss: 0.4180 | val_loss: 0.2155\n"
          ]
        },
        {
          "name": "stderr",
          "output_type": "stream",
          "text": []
        },
        {
          "name": "stdout",
          "output_type": "stream",
          "text": [
            "parveidojums_1 11/50 | train_loss: 0.3915 | val_loss: 0.2048\n"
          ]
        },
        {
          "name": "stderr",
          "output_type": "stream",
          "text": []
        },
        {
          "name": "stdout",
          "output_type": "stream",
          "text": [
            "parveidojums_1 12/50 | train_loss: 0.4458 | val_loss: 0.1983\n"
          ]
        },
        {
          "name": "stderr",
          "output_type": "stream",
          "text": []
        },
        {
          "name": "stdout",
          "output_type": "stream",
          "text": [
            "parveidojums_1 13/50 | train_loss: 0.3546 | val_loss: 0.1971\n"
          ]
        },
        {
          "name": "stderr",
          "output_type": "stream",
          "text": []
        },
        {
          "name": "stdout",
          "output_type": "stream",
          "text": [
            "parveidojums_1 14/50 | train_loss: 0.4180 | val_loss: 0.1920\n"
          ]
        },
        {
          "name": "stderr",
          "output_type": "stream",
          "text": []
        },
        {
          "name": "stdout",
          "output_type": "stream",
          "text": [
            "parveidojums_1 15/50 | train_loss: 0.3788 | val_loss: 0.1889\n"
          ]
        },
        {
          "name": "stderr",
          "output_type": "stream",
          "text": []
        },
        {
          "name": "stdout",
          "output_type": "stream",
          "text": [
            "parveidojums_1 16/50 | train_loss: 0.3866 | val_loss: 0.1830\n"
          ]
        },
        {
          "name": "stderr",
          "output_type": "stream",
          "text": []
        },
        {
          "name": "stdout",
          "output_type": "stream",
          "text": [
            "parveidojums_1 17/50 | train_loss: 0.3404 | val_loss: 0.1763\n"
          ]
        },
        {
          "name": "stderr",
          "output_type": "stream",
          "text": []
        },
        {
          "name": "stdout",
          "output_type": "stream",
          "text": [
            "parveidojums_1 18/50 | train_loss: 0.3819 | val_loss: 0.1775\n"
          ]
        },
        {
          "name": "stderr",
          "output_type": "stream",
          "text": []
        },
        {
          "name": "stdout",
          "output_type": "stream",
          "text": [
            "parveidojums_1 19/50 | train_loss: 0.3386 | val_loss: 0.1750\n"
          ]
        },
        {
          "name": "stderr",
          "output_type": "stream",
          "text": []
        },
        {
          "name": "stdout",
          "output_type": "stream",
          "text": [
            "parveidojums_1 20/50 | train_loss: 0.3737 | val_loss: 0.1752\n"
          ]
        },
        {
          "name": "stderr",
          "output_type": "stream",
          "text": []
        },
        {
          "name": "stdout",
          "output_type": "stream",
          "text": [
            "parveidojums_1 21/50 | train_loss: 0.3370 | val_loss: 0.1725\n",
            "Notika agrā apstāšanās\n",
            "Saglabāts adapteris: parveidojums_1/\n",
            "\n"
          ]
        },
        {
          "name": "stderr",
          "output_type": "stream",
          "text": []
        },
        {
          "name": "stdout",
          "output_type": "stream",
          "text": [
            "parveidojums_2 0/50 | train_loss: 1.6649 | val_loss: 1.5240\n"
          ]
        },
        {
          "name": "stderr",
          "output_type": "stream",
          "text": []
        },
        {
          "name": "stdout",
          "output_type": "stream",
          "text": [
            "parveidojums_2 1/50 | train_loss: 1.4568 | val_loss: 1.0892\n"
          ]
        },
        {
          "name": "stderr",
          "output_type": "stream",
          "text": []
        },
        {
          "name": "stdout",
          "output_type": "stream",
          "text": [
            "parveidojums_2 2/50 | train_loss: 1.1342 | val_loss: 0.6471\n"
          ]
        },
        {
          "name": "stderr",
          "output_type": "stream",
          "text": []
        },
        {
          "name": "stdout",
          "output_type": "stream",
          "text": [
            "parveidojums_2 3/50 | train_loss: 0.9244 | val_loss: 0.5407\n"
          ]
        },
        {
          "name": "stderr",
          "output_type": "stream",
          "text": []
        },
        {
          "name": "stdout",
          "output_type": "stream",
          "text": [
            "parveidojums_2 4/50 | train_loss: 0.8352 | val_loss: 0.5010\n"
          ]
        },
        {
          "name": "stderr",
          "output_type": "stream",
          "text": []
        },
        {
          "name": "stdout",
          "output_type": "stream",
          "text": [
            "parveidojums_2 5/50 | train_loss: 0.7720 | val_loss: 0.4424\n"
          ]
        },
        {
          "name": "stderr",
          "output_type": "stream",
          "text": []
        },
        {
          "name": "stdout",
          "output_type": "stream",
          "text": [
            "parveidojums_2 6/50 | train_loss: 0.7927 | val_loss: 0.3945\n"
          ]
        },
        {
          "name": "stderr",
          "output_type": "stream",
          "text": []
        },
        {
          "name": "stdout",
          "output_type": "stream",
          "text": [
            "parveidojums_2 7/50 | train_loss: 0.7388 | val_loss: 0.3558\n"
          ]
        },
        {
          "name": "stderr",
          "output_type": "stream",
          "text": []
        },
        {
          "name": "stdout",
          "output_type": "stream",
          "text": [
            "parveidojums_2 8/50 | train_loss: 0.7609 | val_loss: 0.3306\n"
          ]
        },
        {
          "name": "stderr",
          "output_type": "stream",
          "text": []
        },
        {
          "name": "stdout",
          "output_type": "stream",
          "text": [
            "parveidojums_2 9/50 | train_loss: 0.6548 | val_loss: 0.3038\n"
          ]
        },
        {
          "name": "stderr",
          "output_type": "stream",
          "text": []
        },
        {
          "name": "stdout",
          "output_type": "stream",
          "text": [
            "parveidojums_2 10/50 | train_loss: 0.6714 | val_loss: 0.2916\n"
          ]
        },
        {
          "name": "stderr",
          "output_type": "stream",
          "text": []
        },
        {
          "name": "stdout",
          "output_type": "stream",
          "text": [
            "parveidojums_2 11/50 | train_loss: 0.6608 | val_loss: 0.2761\n"
          ]
        },
        {
          "name": "stderr",
          "output_type": "stream",
          "text": []
        },
        {
          "name": "stdout",
          "output_type": "stream",
          "text": [
            "parveidojums_2 12/50 | train_loss: 0.6101 | val_loss: 0.2661\n"
          ]
        },
        {
          "name": "stderr",
          "output_type": "stream",
          "text": []
        },
        {
          "name": "stdout",
          "output_type": "stream",
          "text": [
            "parveidojums_2 13/50 | train_loss: 0.5772 | val_loss: 0.2529\n"
          ]
        },
        {
          "name": "stderr",
          "output_type": "stream",
          "text": []
        },
        {
          "name": "stdout",
          "output_type": "stream",
          "text": [
            "parveidojums_2 14/50 | train_loss: 0.6057 | val_loss: 0.2477\n"
          ]
        },
        {
          "name": "stderr",
          "output_type": "stream",
          "text": []
        },
        {
          "name": "stdout",
          "output_type": "stream",
          "text": [
            "parveidojums_2 15/50 | train_loss: 0.6047 | val_loss: 0.2413\n"
          ]
        },
        {
          "name": "stderr",
          "output_type": "stream",
          "text": []
        },
        {
          "name": "stdout",
          "output_type": "stream",
          "text": [
            "parveidojums_2 16/50 | train_loss: 0.5762 | val_loss: 0.2360\n"
          ]
        },
        {
          "name": "stderr",
          "output_type": "stream",
          "text": []
        },
        {
          "name": "stdout",
          "output_type": "stream",
          "text": [
            "parveidojums_2 17/50 | train_loss: 0.5546 | val_loss: 0.2358\n"
          ]
        },
        {
          "name": "stderr",
          "output_type": "stream",
          "text": []
        },
        {
          "name": "stdout",
          "output_type": "stream",
          "text": [
            "parveidojums_2 18/50 | train_loss: 0.5524 | val_loss: 0.2303\n"
          ]
        },
        {
          "name": "stderr",
          "output_type": "stream",
          "text": []
        },
        {
          "name": "stdout",
          "output_type": "stream",
          "text": [
            "parveidojums_2 19/50 | train_loss: 0.5037 | val_loss: 0.2337\n"
          ]
        },
        {
          "name": "stderr",
          "output_type": "stream",
          "text": []
        },
        {
          "name": "stdout",
          "output_type": "stream",
          "text": [
            "parveidojums_2 20/50 | train_loss: 0.5061 | val_loss: 0.2307\n"
          ]
        },
        {
          "name": "stderr",
          "output_type": "stream",
          "text": []
        },
        {
          "name": "stdout",
          "output_type": "stream",
          "text": [
            "parveidojums_2 21/50 | train_loss: 0.5066 | val_loss: 0.2220\n"
          ]
        },
        {
          "name": "stderr",
          "output_type": "stream",
          "text": []
        },
        {
          "name": "stdout",
          "output_type": "stream",
          "text": [
            "parveidojums_2 22/50 | train_loss: 0.5135 | val_loss: 0.2202\n"
          ]
        },
        {
          "name": "stderr",
          "output_type": "stream",
          "text": []
        },
        {
          "name": "stdout",
          "output_type": "stream",
          "text": [
            "parveidojums_2 23/50 | train_loss: 0.5353 | val_loss: 0.2195\n"
          ]
        },
        {
          "name": "stderr",
          "output_type": "stream",
          "text": []
        },
        {
          "name": "stdout",
          "output_type": "stream",
          "text": [
            "parveidojums_2 24/50 | train_loss: 0.5779 | val_loss: 0.2204\n"
          ]
        },
        {
          "name": "stderr",
          "output_type": "stream",
          "text": []
        },
        {
          "name": "stdout",
          "output_type": "stream",
          "text": [
            "parveidojums_2 25/50 | train_loss: 0.5078 | val_loss: 0.2210\n",
            "Notika agrā apstāšanās\n",
            "Saglabāts adapteris: parveidojums_2/\n",
            "\n"
          ]
        },
        {
          "name": "stderr",
          "output_type": "stream",
          "text": []
        },
        {
          "name": "stdout",
          "output_type": "stream",
          "text": [
            "parveidojums_3 0/50 | train_loss: 2.0870 | val_loss: 1.7626\n"
          ]
        },
        {
          "name": "stderr",
          "output_type": "stream",
          "text": []
        },
        {
          "name": "stdout",
          "output_type": "stream",
          "text": [
            "parveidojums_3 1/50 | train_loss: 1.7038 | val_loss: 1.0777\n"
          ]
        },
        {
          "name": "stderr",
          "output_type": "stream",
          "text": []
        },
        {
          "name": "stdout",
          "output_type": "stream",
          "text": [
            "parveidojums_3 2/50 | train_loss: 1.1593 | val_loss: 0.6819\n"
          ]
        },
        {
          "name": "stderr",
          "output_type": "stream",
          "text": []
        },
        {
          "name": "stdout",
          "output_type": "stream",
          "text": [
            "parveidojums_3 3/50 | train_loss: 0.9565 | val_loss: 0.5648\n"
          ]
        },
        {
          "name": "stderr",
          "output_type": "stream",
          "text": []
        },
        {
          "name": "stdout",
          "output_type": "stream",
          "text": [
            "parveidojums_3 4/50 | train_loss: 0.8289 | val_loss: 0.4964\n"
          ]
        },
        {
          "name": "stderr",
          "output_type": "stream",
          "text": []
        },
        {
          "name": "stdout",
          "output_type": "stream",
          "text": [
            "parveidojums_3 5/50 | train_loss: 0.7418 | val_loss: 0.4433\n"
          ]
        },
        {
          "name": "stderr",
          "output_type": "stream",
          "text": []
        },
        {
          "name": "stdout",
          "output_type": "stream",
          "text": [
            "parveidojums_3 6/50 | train_loss: 0.7305 | val_loss: 0.4116\n"
          ]
        },
        {
          "name": "stderr",
          "output_type": "stream",
          "text": []
        },
        {
          "name": "stdout",
          "output_type": "stream",
          "text": [
            "parveidojums_3 7/50 | train_loss: 0.6727 | val_loss: 0.3827\n"
          ]
        },
        {
          "name": "stderr",
          "output_type": "stream",
          "text": []
        },
        {
          "name": "stdout",
          "output_type": "stream",
          "text": [
            "parveidojums_3 8/50 | train_loss: 0.6233 | val_loss: 0.3530\n"
          ]
        },
        {
          "name": "stderr",
          "output_type": "stream",
          "text": []
        },
        {
          "name": "stdout",
          "output_type": "stream",
          "text": [
            "parveidojums_3 9/50 | train_loss: 0.6433 | val_loss: 0.3459\n"
          ]
        },
        {
          "name": "stderr",
          "output_type": "stream",
          "text": []
        },
        {
          "name": "stdout",
          "output_type": "stream",
          "text": [
            "parveidojums_3 10/50 | train_loss: 0.5998 | val_loss: 0.3198\n"
          ]
        },
        {
          "name": "stderr",
          "output_type": "stream",
          "text": []
        },
        {
          "name": "stdout",
          "output_type": "stream",
          "text": [
            "parveidojums_3 11/50 | train_loss: 0.5985 | val_loss: 0.3204\n"
          ]
        },
        {
          "name": "stderr",
          "output_type": "stream",
          "text": []
        },
        {
          "name": "stdout",
          "output_type": "stream",
          "text": [
            "parveidojums_3 12/50 | train_loss: 0.5843 | val_loss: 0.3131\n"
          ]
        },
        {
          "name": "stderr",
          "output_type": "stream",
          "text": []
        },
        {
          "name": "stdout",
          "output_type": "stream",
          "text": [
            "parveidojums_3 13/50 | train_loss: 0.5429 | val_loss: 0.3265\n"
          ]
        },
        {
          "name": "stderr",
          "output_type": "stream",
          "text": []
        },
        {
          "name": "stdout",
          "output_type": "stream",
          "text": [
            "parveidojums_3 14/50 | train_loss: 0.5433 | val_loss: 0.3244\n"
          ]
        },
        {
          "name": "stderr",
          "output_type": "stream",
          "text": []
        },
        {
          "name": "stdout",
          "output_type": "stream",
          "text": [
            "parveidojums_3 15/50 | train_loss: 0.5664 | val_loss: 0.3174\n"
          ]
        },
        {
          "name": "stderr",
          "output_type": "stream",
          "text": []
        },
        {
          "name": "stdout",
          "output_type": "stream",
          "text": [
            "parveidojums_3 16/50 | train_loss: 0.5194 | val_loss: 0.3194\n",
            "Notika agrā apstāšanās\n",
            "Saglabāts adapteris: parveidojums_3/\n",
            "\n"
          ]
        },
        {
          "name": "stderr",
          "output_type": "stream",
          "text": []
        },
        {
          "name": "stdout",
          "output_type": "stream",
          "text": [
            "parveidojums_4 0/50 | train_loss: 2.3791 | val_loss: 2.5307\n"
          ]
        },
        {
          "name": "stderr",
          "output_type": "stream",
          "text": []
        },
        {
          "name": "stdout",
          "output_type": "stream",
          "text": [
            "parveidojums_4 1/50 | train_loss: 2.3505 | val_loss: 2.3601\n"
          ]
        },
        {
          "name": "stderr",
          "output_type": "stream",
          "text": []
        },
        {
          "name": "stdout",
          "output_type": "stream",
          "text": [
            "parveidojums_4 2/50 | train_loss: 2.0933 | val_loss: 2.0400\n"
          ]
        },
        {
          "name": "stderr",
          "output_type": "stream",
          "text": []
        },
        {
          "name": "stdout",
          "output_type": "stream",
          "text": [
            "parveidojums_4 3/50 | train_loss: 1.7306 | val_loss: 1.6362\n"
          ]
        },
        {
          "name": "stderr",
          "output_type": "stream",
          "text": []
        },
        {
          "name": "stdout",
          "output_type": "stream",
          "text": [
            "parveidojums_4 4/50 | train_loss: 1.4835 | val_loss: 1.2972\n"
          ]
        },
        {
          "name": "stderr",
          "output_type": "stream",
          "text": []
        },
        {
          "name": "stdout",
          "output_type": "stream",
          "text": [
            "parveidojums_4 5/50 | train_loss: 1.3217 | val_loss: 0.9955\n"
          ]
        },
        {
          "name": "stderr",
          "output_type": "stream",
          "text": []
        },
        {
          "name": "stdout",
          "output_type": "stream",
          "text": [
            "parveidojums_4 6/50 | train_loss: 1.1112 | val_loss: 0.7661\n"
          ]
        },
        {
          "name": "stderr",
          "output_type": "stream",
          "text": []
        },
        {
          "name": "stdout",
          "output_type": "stream",
          "text": [
            "parveidojums_4 7/50 | train_loss: 0.9368 | val_loss: 0.6145\n"
          ]
        },
        {
          "name": "stderr",
          "output_type": "stream",
          "text": []
        },
        {
          "name": "stdout",
          "output_type": "stream",
          "text": [
            "parveidojums_4 8/50 | train_loss: 0.8578 | val_loss: 0.4905\n"
          ]
        },
        {
          "name": "stderr",
          "output_type": "stream",
          "text": []
        },
        {
          "name": "stdout",
          "output_type": "stream",
          "text": [
            "parveidojums_4 9/50 | train_loss: 0.7014 | val_loss: 0.4121\n"
          ]
        },
        {
          "name": "stderr",
          "output_type": "stream",
          "text": []
        },
        {
          "name": "stdout",
          "output_type": "stream",
          "text": [
            "parveidojums_4 10/50 | train_loss: 0.7433 | val_loss: 0.3424\n"
          ]
        },
        {
          "name": "stderr",
          "output_type": "stream",
          "text": []
        },
        {
          "name": "stdout",
          "output_type": "stream",
          "text": [
            "parveidojums_4 11/50 | train_loss: 0.6806 | val_loss: 0.3115\n"
          ]
        },
        {
          "name": "stderr",
          "output_type": "stream",
          "text": []
        },
        {
          "name": "stdout",
          "output_type": "stream",
          "text": [
            "parveidojums_4 12/50 | train_loss: 0.6808 | val_loss: 0.2743\n"
          ]
        },
        {
          "name": "stderr",
          "output_type": "stream",
          "text": []
        },
        {
          "name": "stdout",
          "output_type": "stream",
          "text": [
            "parveidojums_4 13/50 | train_loss: 0.5727 | val_loss: 0.2480\n"
          ]
        },
        {
          "name": "stderr",
          "output_type": "stream",
          "text": []
        },
        {
          "name": "stdout",
          "output_type": "stream",
          "text": [
            "parveidojums_4 14/50 | train_loss: 0.5298 | val_loss: 0.2284\n"
          ]
        },
        {
          "name": "stderr",
          "output_type": "stream",
          "text": []
        },
        {
          "name": "stdout",
          "output_type": "stream",
          "text": [
            "parveidojums_4 15/50 | train_loss: 0.5346 | val_loss: 0.2186\n"
          ]
        },
        {
          "name": "stderr",
          "output_type": "stream",
          "text": []
        },
        {
          "name": "stdout",
          "output_type": "stream",
          "text": [
            "parveidojums_4 16/50 | train_loss: 0.5049 | val_loss: 0.2097\n"
          ]
        },
        {
          "name": "stderr",
          "output_type": "stream",
          "text": []
        },
        {
          "name": "stdout",
          "output_type": "stream",
          "text": [
            "parveidojums_4 17/50 | train_loss: 0.5003 | val_loss: 0.1963\n"
          ]
        },
        {
          "name": "stderr",
          "output_type": "stream",
          "text": []
        },
        {
          "name": "stdout",
          "output_type": "stream",
          "text": [
            "parveidojums_4 18/50 | train_loss: 0.4586 | val_loss: 0.1908\n"
          ]
        },
        {
          "name": "stderr",
          "output_type": "stream",
          "text": []
        },
        {
          "name": "stdout",
          "output_type": "stream",
          "text": [
            "parveidojums_4 19/50 | train_loss: 0.4610 | val_loss: 0.1882\n"
          ]
        },
        {
          "name": "stderr",
          "output_type": "stream",
          "text": []
        },
        {
          "name": "stdout",
          "output_type": "stream",
          "text": [
            "parveidojums_4 20/50 | train_loss: 0.4735 | val_loss: 0.1838\n"
          ]
        },
        {
          "name": "stderr",
          "output_type": "stream",
          "text": []
        },
        {
          "name": "stdout",
          "output_type": "stream",
          "text": [
            "parveidojums_4 21/50 | train_loss: 0.4669 | val_loss: 0.1783\n"
          ]
        },
        {
          "name": "stderr",
          "output_type": "stream",
          "text": []
        },
        {
          "name": "stdout",
          "output_type": "stream",
          "text": [
            "parveidojums_4 22/50 | train_loss: 0.4505 | val_loss: 0.1812\n"
          ]
        },
        {
          "name": "stderr",
          "output_type": "stream",
          "text": []
        },
        {
          "name": "stdout",
          "output_type": "stream",
          "text": [
            "parveidojums_4 23/50 | train_loss: 0.4687 | val_loss: 0.1778\n"
          ]
        },
        {
          "name": "stderr",
          "output_type": "stream",
          "text": []
        },
        {
          "name": "stdout",
          "output_type": "stream",
          "text": [
            "parveidojums_4 24/50 | train_loss: 0.4700 | val_loss: 0.1765\n"
          ]
        },
        {
          "name": "stderr",
          "output_type": "stream",
          "text": []
        },
        {
          "name": "stdout",
          "output_type": "stream",
          "text": [
            "parveidojums_4 25/50 | train_loss: 0.5163 | val_loss: 0.1778\n",
            "Notika agrā apstāšanās\n",
            "Saglabāts adapteris: parveidojums_4/\n",
            "\n"
          ]
        },
        {
          "name": "stderr",
          "output_type": "stream",
          "text": []
        },
        {
          "name": "stdout",
          "output_type": "stream",
          "text": [
            "parveidojums_5 0/50 | train_loss: 2.0835 | val_loss: 1.7337\n"
          ]
        },
        {
          "name": "stderr",
          "output_type": "stream",
          "text": []
        },
        {
          "name": "stdout",
          "output_type": "stream",
          "text": [
            "parveidojums_5 1/50 | train_loss: 1.8894 | val_loss: 1.6849\n"
          ]
        },
        {
          "name": "stderr",
          "output_type": "stream",
          "text": []
        },
        {
          "name": "stdout",
          "output_type": "stream",
          "text": [
            "parveidojums_5 2/50 | train_loss: 1.8502 | val_loss: 1.6019\n"
          ]
        },
        {
          "name": "stderr",
          "output_type": "stream",
          "text": []
        },
        {
          "name": "stdout",
          "output_type": "stream",
          "text": [
            "parveidojums_5 3/50 | train_loss: 1.8389 | val_loss: 1.4830\n"
          ]
        },
        {
          "name": "stderr",
          "output_type": "stream",
          "text": []
        },
        {
          "name": "stdout",
          "output_type": "stream",
          "text": [
            "parveidojums_5 4/50 | train_loss: 1.6202 | val_loss: 1.3159\n"
          ]
        },
        {
          "name": "stderr",
          "output_type": "stream",
          "text": []
        },
        {
          "name": "stdout",
          "output_type": "stream",
          "text": [
            "parveidojums_5 5/50 | train_loss: 1.5827 | val_loss: 1.1118\n"
          ]
        },
        {
          "name": "stderr",
          "output_type": "stream",
          "text": []
        },
        {
          "name": "stdout",
          "output_type": "stream",
          "text": [
            "parveidojums_5 6/50 | train_loss: 1.3598 | val_loss: 0.8663\n"
          ]
        },
        {
          "name": "stderr",
          "output_type": "stream",
          "text": []
        },
        {
          "name": "stdout",
          "output_type": "stream",
          "text": [
            "parveidojums_5 7/50 | train_loss: 1.2666 | val_loss: 0.6922\n"
          ]
        },
        {
          "name": "stderr",
          "output_type": "stream",
          "text": []
        },
        {
          "name": "stdout",
          "output_type": "stream",
          "text": [
            "parveidojums_5 8/50 | train_loss: 1.1689 | val_loss: 0.6035\n"
          ]
        },
        {
          "name": "stderr",
          "output_type": "stream",
          "text": []
        },
        {
          "name": "stdout",
          "output_type": "stream",
          "text": [
            "parveidojums_5 9/50 | train_loss: 1.1026 | val_loss: 0.5449\n"
          ]
        },
        {
          "name": "stderr",
          "output_type": "stream",
          "text": []
        },
        {
          "name": "stdout",
          "output_type": "stream",
          "text": [
            "parveidojums_5 10/50 | train_loss: 1.0834 | val_loss: 0.4964\n"
          ]
        },
        {
          "name": "stderr",
          "output_type": "stream",
          "text": []
        },
        {
          "name": "stdout",
          "output_type": "stream",
          "text": [
            "parveidojums_5 11/50 | train_loss: 0.9197 | val_loss: 0.4437\n"
          ]
        },
        {
          "name": "stderr",
          "output_type": "stream",
          "text": []
        },
        {
          "name": "stdout",
          "output_type": "stream",
          "text": [
            "parveidojums_5 12/50 | train_loss: 0.9025 | val_loss: 0.3841\n"
          ]
        },
        {
          "name": "stderr",
          "output_type": "stream",
          "text": []
        },
        {
          "name": "stdout",
          "output_type": "stream",
          "text": [
            "parveidojums_5 13/50 | train_loss: 0.7685 | val_loss: 0.3262\n"
          ]
        },
        {
          "name": "stderr",
          "output_type": "stream",
          "text": []
        },
        {
          "name": "stdout",
          "output_type": "stream",
          "text": [
            "parveidojums_5 14/50 | train_loss: 0.7392 | val_loss: 0.2792\n"
          ]
        },
        {
          "name": "stderr",
          "output_type": "stream",
          "text": []
        },
        {
          "name": "stdout",
          "output_type": "stream",
          "text": [
            "parveidojums_5 15/50 | train_loss: 0.6243 | val_loss: 0.2355\n"
          ]
        },
        {
          "name": "stderr",
          "output_type": "stream",
          "text": []
        },
        {
          "name": "stdout",
          "output_type": "stream",
          "text": [
            "parveidojums_5 16/50 | train_loss: 0.7205 | val_loss: 0.2061\n"
          ]
        },
        {
          "name": "stderr",
          "output_type": "stream",
          "text": []
        },
        {
          "name": "stdout",
          "output_type": "stream",
          "text": [
            "parveidojums_5 17/50 | train_loss: 0.7319 | val_loss: 0.1910\n"
          ]
        },
        {
          "name": "stderr",
          "output_type": "stream",
          "text": []
        },
        {
          "name": "stdout",
          "output_type": "stream",
          "text": [
            "parveidojums_5 18/50 | train_loss: 0.7043 | val_loss: 0.1807\n"
          ]
        },
        {
          "name": "stderr",
          "output_type": "stream",
          "text": []
        },
        {
          "name": "stdout",
          "output_type": "stream",
          "text": [
            "parveidojums_5 19/50 | train_loss: 0.6241 | val_loss: 0.1685\n"
          ]
        },
        {
          "name": "stderr",
          "output_type": "stream",
          "text": []
        },
        {
          "name": "stdout",
          "output_type": "stream",
          "text": [
            "parveidojums_5 20/50 | train_loss: 0.6608 | val_loss: 0.1614\n"
          ]
        },
        {
          "name": "stderr",
          "output_type": "stream",
          "text": []
        },
        {
          "name": "stdout",
          "output_type": "stream",
          "text": [
            "parveidojums_5 21/50 | train_loss: 0.6389 | val_loss: 0.1597\n"
          ]
        },
        {
          "name": "stderr",
          "output_type": "stream",
          "text": []
        },
        {
          "name": "stdout",
          "output_type": "stream",
          "text": [
            "parveidojums_5 22/50 | train_loss: 0.6550 | val_loss: 0.1570\n"
          ]
        },
        {
          "name": "stderr",
          "output_type": "stream",
          "text": []
        },
        {
          "name": "stdout",
          "output_type": "stream",
          "text": [
            "parveidojums_5 23/50 | train_loss: 0.6048 | val_loss: 0.1549\n"
          ]
        },
        {
          "name": "stderr",
          "output_type": "stream",
          "text": []
        },
        {
          "name": "stdout",
          "output_type": "stream",
          "text": [
            "parveidojums_5 24/50 | train_loss: 0.5630 | val_loss: 0.1547\n",
            "Notika agrā apstāšanās\n",
            "Saglabāts adapteris: parveidojums_5/\n",
            "\n"
          ]
        },
        {
          "name": "stderr",
          "output_type": "stream",
          "text": []
        },
        {
          "name": "stdout",
          "output_type": "stream",
          "text": [
            "parveidojums_6 0/50 | train_loss: 1.8000 | val_loss: 1.5730\n"
          ]
        },
        {
          "name": "stderr",
          "output_type": "stream",
          "text": []
        },
        {
          "name": "stdout",
          "output_type": "stream",
          "text": [
            "parveidojums_6 1/50 | train_loss: 2.0082 | val_loss: 1.5563\n"
          ]
        },
        {
          "name": "stderr",
          "output_type": "stream",
          "text": []
        },
        {
          "name": "stdout",
          "output_type": "stream",
          "text": [
            "parveidojums_6 2/50 | train_loss: 1.8759 | val_loss: 1.5301\n"
          ]
        },
        {
          "name": "stderr",
          "output_type": "stream",
          "text": []
        },
        {
          "name": "stdout",
          "output_type": "stream",
          "text": [
            "parveidojums_6 3/50 | train_loss: 2.0124 | val_loss: 1.4949\n"
          ]
        },
        {
          "name": "stderr",
          "output_type": "stream",
          "text": []
        },
        {
          "name": "stdout",
          "output_type": "stream",
          "text": [
            "parveidojums_6 4/50 | train_loss: 1.7088 | val_loss: 1.4494\n"
          ]
        },
        {
          "name": "stderr",
          "output_type": "stream",
          "text": []
        },
        {
          "name": "stdout",
          "output_type": "stream",
          "text": [
            "parveidojums_6 5/50 | train_loss: 1.5332 | val_loss: 1.3835\n"
          ]
        },
        {
          "name": "stderr",
          "output_type": "stream",
          "text": []
        },
        {
          "name": "stdout",
          "output_type": "stream",
          "text": [
            "parveidojums_6 6/50 | train_loss: 1.4969 | val_loss: 1.3078\n"
          ]
        },
        {
          "name": "stderr",
          "output_type": "stream",
          "text": []
        },
        {
          "name": "stdout",
          "output_type": "stream",
          "text": [
            "parveidojums_6 7/50 | train_loss: 1.4674 | val_loss: 1.2344\n"
          ]
        },
        {
          "name": "stderr",
          "output_type": "stream",
          "text": []
        },
        {
          "name": "stdout",
          "output_type": "stream",
          "text": [
            "parveidojums_6 8/50 | train_loss: 1.3444 | val_loss: 1.1564\n"
          ]
        },
        {
          "name": "stderr",
          "output_type": "stream",
          "text": []
        },
        {
          "name": "stdout",
          "output_type": "stream",
          "text": [
            "parveidojums_6 9/50 | train_loss: 1.3558 | val_loss: 1.0952\n"
          ]
        },
        {
          "name": "stderr",
          "output_type": "stream",
          "text": []
        },
        {
          "name": "stdout",
          "output_type": "stream",
          "text": [
            "parveidojums_6 10/50 | train_loss: 1.1080 | val_loss: 1.0522\n"
          ]
        },
        {
          "name": "stderr",
          "output_type": "stream",
          "text": []
        },
        {
          "name": "stdout",
          "output_type": "stream",
          "text": [
            "parveidojums_6 11/50 | train_loss: 1.0585 | val_loss: 1.0146\n"
          ]
        },
        {
          "name": "stderr",
          "output_type": "stream",
          "text": []
        },
        {
          "name": "stdout",
          "output_type": "stream",
          "text": [
            "parveidojums_6 12/50 | train_loss: 0.9384 | val_loss: 0.9846\n"
          ]
        },
        {
          "name": "stderr",
          "output_type": "stream",
          "text": []
        },
        {
          "name": "stdout",
          "output_type": "stream",
          "text": [
            "parveidojums_6 13/50 | train_loss: 0.9206 | val_loss: 0.9579\n"
          ]
        },
        {
          "name": "stderr",
          "output_type": "stream",
          "text": []
        },
        {
          "name": "stdout",
          "output_type": "stream",
          "text": [
            "parveidojums_6 14/50 | train_loss: 0.9783 | val_loss: 0.9428\n"
          ]
        },
        {
          "name": "stderr",
          "output_type": "stream",
          "text": []
        },
        {
          "name": "stdout",
          "output_type": "stream",
          "text": [
            "parveidojums_6 15/50 | train_loss: 0.8665 | val_loss: 0.9303\n"
          ]
        },
        {
          "name": "stderr",
          "output_type": "stream",
          "text": []
        },
        {
          "name": "stdout",
          "output_type": "stream",
          "text": [
            "parveidojums_6 16/50 | train_loss: 0.9037 | val_loss: 0.9185\n"
          ]
        },
        {
          "name": "stderr",
          "output_type": "stream",
          "text": []
        },
        {
          "name": "stdout",
          "output_type": "stream",
          "text": [
            "parveidojums_6 17/50 | train_loss: 0.9077 | val_loss: 0.9117\n"
          ]
        },
        {
          "name": "stderr",
          "output_type": "stream",
          "text": []
        },
        {
          "name": "stdout",
          "output_type": "stream",
          "text": [
            "parveidojums_6 18/50 | train_loss: 0.9312 | val_loss: 0.9017\n"
          ]
        },
        {
          "name": "stderr",
          "output_type": "stream",
          "text": []
        },
        {
          "name": "stdout",
          "output_type": "stream",
          "text": [
            "parveidojums_6 19/50 | train_loss: 0.7849 | val_loss: 0.8987\n"
          ]
        },
        {
          "name": "stderr",
          "output_type": "stream",
          "text": []
        },
        {
          "name": "stdout",
          "output_type": "stream",
          "text": [
            "parveidojums_6 20/50 | train_loss: 0.7790 | val_loss: 0.8940\n"
          ]
        },
        {
          "name": "stderr",
          "output_type": "stream",
          "text": []
        },
        {
          "name": "stdout",
          "output_type": "stream",
          "text": [
            "parveidojums_6 21/50 | train_loss: 0.7283 | val_loss: 0.8904\n"
          ]
        },
        {
          "name": "stderr",
          "output_type": "stream",
          "text": []
        },
        {
          "name": "stdout",
          "output_type": "stream",
          "text": [
            "parveidojums_6 22/50 | train_loss: 0.7942 | val_loss: 0.8864\n",
            "Notika agrā apstāšanās\n",
            "Saglabāts adapteris: parveidojums_6/\n",
            "\n"
          ]
        },
        {
          "name": "stderr",
          "output_type": "stream",
          "text": []
        },
        {
          "name": "stdout",
          "output_type": "stream",
          "text": [
            "parveidojums_7 0/50 | train_loss: 2.5334 | val_loss: 2.7255\n"
          ]
        },
        {
          "name": "stderr",
          "output_type": "stream",
          "text": []
        },
        {
          "name": "stdout",
          "output_type": "stream",
          "text": [
            "parveidojums_7 1/50 | train_loss: 2.5057 | val_loss: 2.6858\n"
          ]
        },
        {
          "name": "stderr",
          "output_type": "stream",
          "text": []
        },
        {
          "name": "stdout",
          "output_type": "stream",
          "text": [
            "parveidojums_7 2/50 | train_loss: 2.2145 | val_loss: 2.6182\n"
          ]
        },
        {
          "name": "stderr",
          "output_type": "stream",
          "text": []
        },
        {
          "name": "stdout",
          "output_type": "stream",
          "text": [
            "parveidojums_7 3/50 | train_loss: 2.2563 | val_loss: 2.5148\n"
          ]
        },
        {
          "name": "stderr",
          "output_type": "stream",
          "text": []
        },
        {
          "name": "stdout",
          "output_type": "stream",
          "text": [
            "parveidojums_7 4/50 | train_loss: 2.1431 | val_loss: 2.3710\n"
          ]
        },
        {
          "name": "stderr",
          "output_type": "stream",
          "text": []
        },
        {
          "name": "stdout",
          "output_type": "stream",
          "text": [
            "parveidojums_7 5/50 | train_loss: 2.0836 | val_loss: 2.1731\n"
          ]
        },
        {
          "name": "stderr",
          "output_type": "stream",
          "text": []
        },
        {
          "name": "stdout",
          "output_type": "stream",
          "text": [
            "parveidojums_7 6/50 | train_loss: 1.8181 | val_loss: 1.9208\n"
          ]
        },
        {
          "name": "stderr",
          "output_type": "stream",
          "text": []
        },
        {
          "name": "stdout",
          "output_type": "stream",
          "text": [
            "parveidojums_7 7/50 | train_loss: 1.4957 | val_loss: 1.6611\n"
          ]
        },
        {
          "name": "stderr",
          "output_type": "stream",
          "text": []
        },
        {
          "name": "stdout",
          "output_type": "stream",
          "text": [
            "parveidojums_7 8/50 | train_loss: 1.4219 | val_loss: 1.4401\n"
          ]
        },
        {
          "name": "stderr",
          "output_type": "stream",
          "text": []
        },
        {
          "name": "stdout",
          "output_type": "stream",
          "text": [
            "parveidojums_7 9/50 | train_loss: 1.3696 | val_loss: 1.3097\n"
          ]
        },
        {
          "name": "stderr",
          "output_type": "stream",
          "text": []
        },
        {
          "name": "stdout",
          "output_type": "stream",
          "text": [
            "parveidojums_7 10/50 | train_loss: 1.2744 | val_loss: 1.2109\n"
          ]
        },
        {
          "name": "stderr",
          "output_type": "stream",
          "text": []
        },
        {
          "name": "stdout",
          "output_type": "stream",
          "text": [
            "parveidojums_7 11/50 | train_loss: 1.1370 | val_loss: 1.1339\n"
          ]
        },
        {
          "name": "stderr",
          "output_type": "stream",
          "text": []
        },
        {
          "name": "stdout",
          "output_type": "stream",
          "text": [
            "parveidojums_7 12/50 | train_loss: 1.0729 | val_loss: 1.0885\n"
          ]
        },
        {
          "name": "stderr",
          "output_type": "stream",
          "text": []
        },
        {
          "name": "stdout",
          "output_type": "stream",
          "text": [
            "parveidojums_7 13/50 | train_loss: 1.2459 | val_loss: 1.0473\n"
          ]
        },
        {
          "name": "stderr",
          "output_type": "stream",
          "text": []
        },
        {
          "name": "stdout",
          "output_type": "stream",
          "text": [
            "parveidojums_7 14/50 | train_loss: 1.0947 | val_loss: 0.9968\n"
          ]
        },
        {
          "name": "stderr",
          "output_type": "stream",
          "text": []
        },
        {
          "name": "stdout",
          "output_type": "stream",
          "text": [
            "parveidojums_7 15/50 | train_loss: 0.9945 | val_loss: 0.9515\n"
          ]
        },
        {
          "name": "stderr",
          "output_type": "stream",
          "text": []
        },
        {
          "name": "stdout",
          "output_type": "stream",
          "text": [
            "parveidojums_7 16/50 | train_loss: 1.0680 | val_loss: 0.9174\n"
          ]
        },
        {
          "name": "stderr",
          "output_type": "stream",
          "text": []
        },
        {
          "name": "stdout",
          "output_type": "stream",
          "text": [
            "parveidojums_7 17/50 | train_loss: 1.0110 | val_loss: 0.8761\n"
          ]
        },
        {
          "name": "stderr",
          "output_type": "stream",
          "text": []
        },
        {
          "name": "stdout",
          "output_type": "stream",
          "text": [
            "parveidojums_7 18/50 | train_loss: 1.0232 | val_loss: 0.8410\n"
          ]
        },
        {
          "name": "stderr",
          "output_type": "stream",
          "text": []
        },
        {
          "name": "stdout",
          "output_type": "stream",
          "text": [
            "parveidojums_7 19/50 | train_loss: 0.8979 | val_loss: 0.8169\n"
          ]
        },
        {
          "name": "stderr",
          "output_type": "stream",
          "text": []
        },
        {
          "name": "stdout",
          "output_type": "stream",
          "text": [
            "parveidojums_7 20/50 | train_loss: 0.8965 | val_loss: 0.7903\n"
          ]
        },
        {
          "name": "stderr",
          "output_type": "stream",
          "text": []
        },
        {
          "name": "stdout",
          "output_type": "stream",
          "text": [
            "parveidojums_7 21/50 | train_loss: 0.9569 | val_loss: 0.7580\n"
          ]
        },
        {
          "name": "stderr",
          "output_type": "stream",
          "text": []
        },
        {
          "name": "stdout",
          "output_type": "stream",
          "text": [
            "parveidojums_7 22/50 | train_loss: 0.9051 | val_loss: 0.7234\n"
          ]
        },
        {
          "name": "stderr",
          "output_type": "stream",
          "text": []
        },
        {
          "name": "stdout",
          "output_type": "stream",
          "text": [
            "parveidojums_7 23/50 | train_loss: 0.9213 | val_loss: 0.6917\n"
          ]
        },
        {
          "name": "stderr",
          "output_type": "stream",
          "text": []
        },
        {
          "name": "stdout",
          "output_type": "stream",
          "text": [
            "parveidojums_7 24/50 | train_loss: 0.8644 | val_loss: 0.6622\n"
          ]
        },
        {
          "name": "stderr",
          "output_type": "stream",
          "text": []
        },
        {
          "name": "stdout",
          "output_type": "stream",
          "text": [
            "parveidojums_7 25/50 | train_loss: 0.9212 | val_loss: 0.6405\n"
          ]
        },
        {
          "name": "stderr",
          "output_type": "stream",
          "text": []
        },
        {
          "name": "stdout",
          "output_type": "stream",
          "text": [
            "parveidojums_7 26/50 | train_loss: 0.8168 | val_loss: 0.6179\n"
          ]
        },
        {
          "name": "stderr",
          "output_type": "stream",
          "text": []
        },
        {
          "name": "stdout",
          "output_type": "stream",
          "text": [
            "parveidojums_7 27/50 | train_loss: 0.8149 | val_loss: 0.6012\n"
          ]
        },
        {
          "name": "stderr",
          "output_type": "stream",
          "text": []
        },
        {
          "name": "stdout",
          "output_type": "stream",
          "text": [
            "parveidojums_7 28/50 | train_loss: 0.7078 | val_loss: 0.5744\n"
          ]
        },
        {
          "name": "stderr",
          "output_type": "stream",
          "text": []
        },
        {
          "name": "stdout",
          "output_type": "stream",
          "text": [
            "parveidojums_7 29/50 | train_loss: 0.6800 | val_loss: 0.5496\n"
          ]
        },
        {
          "name": "stderr",
          "output_type": "stream",
          "text": []
        },
        {
          "name": "stdout",
          "output_type": "stream",
          "text": [
            "parveidojums_7 30/50 | train_loss: 0.8666 | val_loss: 0.5339\n"
          ]
        },
        {
          "name": "stderr",
          "output_type": "stream",
          "text": []
        },
        {
          "name": "stdout",
          "output_type": "stream",
          "text": [
            "parveidojums_7 31/50 | train_loss: 0.7213 | val_loss: 0.5233\n"
          ]
        },
        {
          "name": "stderr",
          "output_type": "stream",
          "text": []
        },
        {
          "name": "stdout",
          "output_type": "stream",
          "text": [
            "parveidojums_7 32/50 | train_loss: 0.7254 | val_loss: 0.5063\n"
          ]
        },
        {
          "name": "stderr",
          "output_type": "stream",
          "text": []
        },
        {
          "name": "stdout",
          "output_type": "stream",
          "text": [
            "parveidojums_7 33/50 | train_loss: 0.6402 | val_loss: 0.5014\n"
          ]
        },
        {
          "name": "stderr",
          "output_type": "stream",
          "text": []
        },
        {
          "name": "stdout",
          "output_type": "stream",
          "text": [
            "parveidojums_7 34/50 | train_loss: 0.8107 | val_loss: 0.4859\n"
          ]
        },
        {
          "name": "stderr",
          "output_type": "stream",
          "text": []
        },
        {
          "name": "stdout",
          "output_type": "stream",
          "text": [
            "parveidojums_7 35/50 | train_loss: 0.7888 | val_loss: 0.4787\n"
          ]
        },
        {
          "name": "stderr",
          "output_type": "stream",
          "text": []
        },
        {
          "name": "stdout",
          "output_type": "stream",
          "text": [
            "parveidojums_7 36/50 | train_loss: 0.6602 | val_loss: 0.4592\n"
          ]
        },
        {
          "name": "stderr",
          "output_type": "stream",
          "text": []
        },
        {
          "name": "stdout",
          "output_type": "stream",
          "text": [
            "parveidojums_7 37/50 | train_loss: 0.6928 | val_loss: 0.4485\n"
          ]
        },
        {
          "name": "stderr",
          "output_type": "stream",
          "text": []
        },
        {
          "name": "stdout",
          "output_type": "stream",
          "text": [
            "parveidojums_7 38/50 | train_loss: 0.7624 | val_loss: 0.4395\n"
          ]
        },
        {
          "name": "stderr",
          "output_type": "stream",
          "text": []
        },
        {
          "name": "stdout",
          "output_type": "stream",
          "text": [
            "parveidojums_7 39/50 | train_loss: 0.5456 | val_loss: 0.4390\n"
          ]
        },
        {
          "name": "stderr",
          "output_type": "stream",
          "text": []
        },
        {
          "name": "stdout",
          "output_type": "stream",
          "text": [
            "parveidojums_7 40/50 | train_loss: 0.5772 | val_loss: 0.4373\n"
          ]
        },
        {
          "name": "stderr",
          "output_type": "stream",
          "text": []
        },
        {
          "name": "stdout",
          "output_type": "stream",
          "text": [
            "parveidojums_7 41/50 | train_loss: 0.6686 | val_loss: 0.4258\n"
          ]
        },
        {
          "name": "stderr",
          "output_type": "stream",
          "text": []
        },
        {
          "name": "stdout",
          "output_type": "stream",
          "text": [
            "parveidojums_7 42/50 | train_loss: 0.6479 | val_loss: 0.4133\n"
          ]
        },
        {
          "name": "stderr",
          "output_type": "stream",
          "text": []
        },
        {
          "name": "stdout",
          "output_type": "stream",
          "text": [
            "parveidojums_7 43/50 | train_loss: 0.6733 | val_loss: 0.4026\n"
          ]
        },
        {
          "name": "stderr",
          "output_type": "stream",
          "text": []
        },
        {
          "name": "stdout",
          "output_type": "stream",
          "text": [
            "parveidojums_7 44/50 | train_loss: 0.5278 | val_loss: 0.4016\n"
          ]
        },
        {
          "name": "stderr",
          "output_type": "stream",
          "text": []
        },
        {
          "name": "stdout",
          "output_type": "stream",
          "text": [
            "parveidojums_7 45/50 | train_loss: 0.6248 | val_loss: 0.4025\n"
          ]
        },
        {
          "name": "stderr",
          "output_type": "stream",
          "text": []
        },
        {
          "name": "stdout",
          "output_type": "stream",
          "text": [
            "parveidojums_7 46/50 | train_loss: 0.6213 | val_loss: 0.3990\n"
          ]
        },
        {
          "name": "stderr",
          "output_type": "stream",
          "text": []
        },
        {
          "name": "stdout",
          "output_type": "stream",
          "text": [
            "parveidojums_7 47/50 | train_loss: 0.5704 | val_loss: 0.4036\n",
            "Notika agrā apstāšanās\n",
            "Saglabāts adapteris: parveidojums_7/\n",
            "\n"
          ]
        },
        {
          "name": "stderr",
          "output_type": "stream",
          "text": []
        },
        {
          "name": "stdout",
          "output_type": "stream",
          "text": [
            "parveidojums_8 0/50 | train_loss: 2.1564 | val_loss: 1.5498\n"
          ]
        },
        {
          "name": "stderr",
          "output_type": "stream",
          "text": []
        },
        {
          "name": "stdout",
          "output_type": "stream",
          "text": [
            "parveidojums_8 1/50 | train_loss: 2.2995 | val_loss: 1.5286\n"
          ]
        },
        {
          "name": "stderr",
          "output_type": "stream",
          "text": []
        },
        {
          "name": "stdout",
          "output_type": "stream",
          "text": [
            "parveidojums_8 2/50 | train_loss: 2.1527 | val_loss: 1.4950\n"
          ]
        },
        {
          "name": "stderr",
          "output_type": "stream",
          "text": []
        },
        {
          "name": "stdout",
          "output_type": "stream",
          "text": [
            "parveidojums_8 3/50 | train_loss: 1.9994 | val_loss: 1.4497\n"
          ]
        },
        {
          "name": "stderr",
          "output_type": "stream",
          "text": []
        },
        {
          "name": "stdout",
          "output_type": "stream",
          "text": [
            "parveidojums_8 4/50 | train_loss: 2.1091 | val_loss: 1.3915\n"
          ]
        },
        {
          "name": "stderr",
          "output_type": "stream",
          "text": []
        },
        {
          "name": "stdout",
          "output_type": "stream",
          "text": [
            "parveidojums_8 5/50 | train_loss: 1.8521 | val_loss: 1.3162\n"
          ]
        },
        {
          "name": "stderr",
          "output_type": "stream",
          "text": []
        },
        {
          "name": "stdout",
          "output_type": "stream",
          "text": [
            "parveidojums_8 6/50 | train_loss: 1.9632 | val_loss: 1.2305\n"
          ]
        },
        {
          "name": "stderr",
          "output_type": "stream",
          "text": []
        },
        {
          "name": "stdout",
          "output_type": "stream",
          "text": [
            "parveidojums_8 7/50 | train_loss: 1.7318 | val_loss: 1.1434\n"
          ]
        },
        {
          "name": "stderr",
          "output_type": "stream",
          "text": []
        },
        {
          "name": "stdout",
          "output_type": "stream",
          "text": [
            "parveidojums_8 8/50 | train_loss: 1.8367 | val_loss: 1.0552\n"
          ]
        },
        {
          "name": "stderr",
          "output_type": "stream",
          "text": []
        },
        {
          "name": "stdout",
          "output_type": "stream",
          "text": [
            "parveidojums_8 9/50 | train_loss: 1.6385 | val_loss: 0.9638\n"
          ]
        },
        {
          "name": "stderr",
          "output_type": "stream",
          "text": []
        },
        {
          "name": "stdout",
          "output_type": "stream",
          "text": [
            "parveidojums_8 10/50 | train_loss: 1.5095 | val_loss: 0.8680\n"
          ]
        },
        {
          "name": "stderr",
          "output_type": "stream",
          "text": []
        },
        {
          "name": "stdout",
          "output_type": "stream",
          "text": [
            "parveidojums_8 11/50 | train_loss: 1.4320 | val_loss: 0.7688\n"
          ]
        },
        {
          "name": "stderr",
          "output_type": "stream",
          "text": []
        },
        {
          "name": "stdout",
          "output_type": "stream",
          "text": [
            "parveidojums_8 12/50 | train_loss: 1.2769 | val_loss: 0.6620\n"
          ]
        },
        {
          "name": "stderr",
          "output_type": "stream",
          "text": [
            "                                                    "
          ]
        },
        {
          "name": "stdout",
          "output_type": "stream",
          "text": [
            "parveidojums_8 13/50 | train_loss: 1.1829 | val_loss: 0.5727\n"
          ]
        },
        {
          "name": "stderr",
          "output_type": "stream",
          "text": []
        },
        {
          "name": "stdout",
          "output_type": "stream",
          "text": [
            "parveidojums_8 14/50 | train_loss: 1.2100 | val_loss: 0.5207\n"
          ]
        },
        {
          "name": "stderr",
          "output_type": "stream",
          "text": []
        },
        {
          "name": "stdout",
          "output_type": "stream",
          "text": [
            "parveidojums_8 15/50 | train_loss: 1.0586 | val_loss: 0.4952\n"
          ]
        },
        {
          "name": "stderr",
          "output_type": "stream",
          "text": []
        },
        {
          "name": "stdout",
          "output_type": "stream",
          "text": [
            "parveidojums_8 16/50 | train_loss: 1.0986 | val_loss: 0.4775\n"
          ]
        },
        {
          "name": "stderr",
          "output_type": "stream",
          "text": []
        },
        {
          "name": "stdout",
          "output_type": "stream",
          "text": [
            "parveidojums_8 17/50 | train_loss: 1.0557 | val_loss: 0.4607\n"
          ]
        },
        {
          "name": "stderr",
          "output_type": "stream",
          "text": []
        },
        {
          "name": "stdout",
          "output_type": "stream",
          "text": [
            "parveidojums_8 18/50 | train_loss: 1.0567 | val_loss: 0.4524\n"
          ]
        },
        {
          "name": "stderr",
          "output_type": "stream",
          "text": []
        },
        {
          "name": "stdout",
          "output_type": "stream",
          "text": [
            "parveidojums_8 19/50 | train_loss: 1.0558 | val_loss: 0.4491\n"
          ]
        },
        {
          "name": "stderr",
          "output_type": "stream",
          "text": []
        },
        {
          "name": "stdout",
          "output_type": "stream",
          "text": [
            "parveidojums_8 20/50 | train_loss: 0.9071 | val_loss: 0.4438\n"
          ]
        },
        {
          "name": "stderr",
          "output_type": "stream",
          "text": []
        },
        {
          "name": "stdout",
          "output_type": "stream",
          "text": [
            "parveidojums_8 21/50 | train_loss: 1.0472 | val_loss: 0.4372\n"
          ]
        },
        {
          "name": "stderr",
          "output_type": "stream",
          "text": []
        },
        {
          "name": "stdout",
          "output_type": "stream",
          "text": [
            "parveidojums_8 22/50 | train_loss: 0.9424 | val_loss: 0.4307\n"
          ]
        },
        {
          "name": "stderr",
          "output_type": "stream",
          "text": []
        },
        {
          "name": "stdout",
          "output_type": "stream",
          "text": [
            "parveidojums_8 23/50 | train_loss: 0.8769 | val_loss: 0.4321\n"
          ]
        },
        {
          "name": "stderr",
          "output_type": "stream",
          "text": []
        },
        {
          "name": "stdout",
          "output_type": "stream",
          "text": [
            "parveidojums_8 24/50 | train_loss: 0.9158 | val_loss: 0.4318\n"
          ]
        },
        {
          "name": "stderr",
          "output_type": "stream",
          "text": []
        },
        {
          "name": "stdout",
          "output_type": "stream",
          "text": [
            "parveidojums_8 25/50 | train_loss: 0.8800 | val_loss: 0.4321\n"
          ]
        },
        {
          "name": "stderr",
          "output_type": "stream",
          "text": []
        },
        {
          "name": "stdout",
          "output_type": "stream",
          "text": [
            "parveidojums_8 26/50 | train_loss: 0.9964 | val_loss: 0.4306\n",
            "Notika agrā apstāšanās\n",
            "Saglabāts adapteris: parveidojums_8/\n",
            "\n"
          ]
        },
        {
          "name": "stderr",
          "output_type": "stream",
          "text": []
        },
        {
          "name": "stdout",
          "output_type": "stream",
          "text": [
            "parveidojums_9 0/50 | train_loss: 2.3875 | val_loss: 3.3975\n"
          ]
        },
        {
          "name": "stderr",
          "output_type": "stream",
          "text": []
        },
        {
          "name": "stdout",
          "output_type": "stream",
          "text": [
            "parveidojums_9 1/50 | train_loss: 2.5997 | val_loss: 3.3805\n"
          ]
        },
        {
          "name": "stderr",
          "output_type": "stream",
          "text": []
        },
        {
          "name": "stdout",
          "output_type": "stream",
          "text": [
            "parveidojums_9 2/50 | train_loss: 2.4700 | val_loss: 3.3539\n"
          ]
        },
        {
          "name": "stderr",
          "output_type": "stream",
          "text": []
        },
        {
          "name": "stdout",
          "output_type": "stream",
          "text": [
            "parveidojums_9 3/50 | train_loss: 2.4094 | val_loss: 3.3205\n"
          ]
        },
        {
          "name": "stderr",
          "output_type": "stream",
          "text": []
        },
        {
          "name": "stdout",
          "output_type": "stream",
          "text": [
            "parveidojums_9 4/50 | train_loss: 2.5385 | val_loss: 3.2771\n"
          ]
        },
        {
          "name": "stderr",
          "output_type": "stream",
          "text": []
        },
        {
          "name": "stdout",
          "output_type": "stream",
          "text": [
            "parveidojums_9 5/50 | train_loss: 2.3752 | val_loss: 3.2202\n"
          ]
        },
        {
          "name": "stderr",
          "output_type": "stream",
          "text": []
        },
        {
          "name": "stdout",
          "output_type": "stream",
          "text": [
            "parveidojums_9 6/50 | train_loss: 2.3245 | val_loss: 3.1509\n"
          ]
        },
        {
          "name": "stderr",
          "output_type": "stream",
          "text": []
        },
        {
          "name": "stdout",
          "output_type": "stream",
          "text": [
            "parveidojums_9 7/50 | train_loss: 2.1082 | val_loss: 3.0726\n"
          ]
        },
        {
          "name": "stderr",
          "output_type": "stream",
          "text": []
        },
        {
          "name": "stdout",
          "output_type": "stream",
          "text": [
            "parveidojums_9 8/50 | train_loss: 2.3352 | val_loss: 2.9873\n"
          ]
        },
        {
          "name": "stderr",
          "output_type": "stream",
          "text": []
        },
        {
          "name": "stdout",
          "output_type": "stream",
          "text": [
            "parveidojums_9 9/50 | train_loss: 2.1952 | val_loss: 2.8870\n"
          ]
        },
        {
          "name": "stderr",
          "output_type": "stream",
          "text": []
        },
        {
          "name": "stdout",
          "output_type": "stream",
          "text": [
            "parveidojums_9 10/50 | train_loss: 2.0802 | val_loss: 2.7952\n"
          ]
        },
        {
          "name": "stderr",
          "output_type": "stream",
          "text": []
        },
        {
          "name": "stdout",
          "output_type": "stream",
          "text": [
            "parveidojums_9 11/50 | train_loss: 1.8136 | val_loss: 2.7037\n"
          ]
        },
        {
          "name": "stderr",
          "output_type": "stream",
          "text": []
        },
        {
          "name": "stdout",
          "output_type": "stream",
          "text": [
            "parveidojums_9 12/50 | train_loss: 1.8485 | val_loss: 2.6050\n"
          ]
        },
        {
          "name": "stderr",
          "output_type": "stream",
          "text": []
        },
        {
          "name": "stdout",
          "output_type": "stream",
          "text": [
            "parveidojums_9 13/50 | train_loss: 1.5808 | val_loss: 2.5080\n"
          ]
        },
        {
          "name": "stderr",
          "output_type": "stream",
          "text": []
        },
        {
          "name": "stdout",
          "output_type": "stream",
          "text": [
            "parveidojums_9 14/50 | train_loss: 1.5231 | val_loss: 2.4209\n"
          ]
        },
        {
          "name": "stderr",
          "output_type": "stream",
          "text": []
        },
        {
          "name": "stdout",
          "output_type": "stream",
          "text": [
            "parveidojums_9 15/50 | train_loss: 1.6909 | val_loss: 2.3310\n"
          ]
        },
        {
          "name": "stderr",
          "output_type": "stream",
          "text": []
        },
        {
          "name": "stdout",
          "output_type": "stream",
          "text": [
            "parveidojums_9 16/50 | train_loss: 1.6364 | val_loss: 2.2505\n"
          ]
        },
        {
          "name": "stderr",
          "output_type": "stream",
          "text": []
        },
        {
          "name": "stdout",
          "output_type": "stream",
          "text": [
            "parveidojums_9 17/50 | train_loss: 1.4768 | val_loss: 2.1815\n"
          ]
        },
        {
          "name": "stderr",
          "output_type": "stream",
          "text": []
        },
        {
          "name": "stdout",
          "output_type": "stream",
          "text": [
            "parveidojums_9 18/50 | train_loss: 1.5079 | val_loss: 2.1194\n"
          ]
        },
        {
          "name": "stderr",
          "output_type": "stream",
          "text": []
        },
        {
          "name": "stdout",
          "output_type": "stream",
          "text": [
            "parveidojums_9 19/50 | train_loss: 1.3731 | val_loss: 2.0521\n"
          ]
        },
        {
          "name": "stderr",
          "output_type": "stream",
          "text": []
        },
        {
          "name": "stdout",
          "output_type": "stream",
          "text": [
            "parveidojums_9 20/50 | train_loss: 1.3346 | val_loss: 1.9928\n"
          ]
        },
        {
          "name": "stderr",
          "output_type": "stream",
          "text": []
        },
        {
          "name": "stdout",
          "output_type": "stream",
          "text": [
            "parveidojums_9 21/50 | train_loss: 1.2943 | val_loss: 1.9394\n"
          ]
        },
        {
          "name": "stderr",
          "output_type": "stream",
          "text": []
        },
        {
          "name": "stdout",
          "output_type": "stream",
          "text": [
            "parveidojums_9 22/50 | train_loss: 1.1972 | val_loss: 1.9149\n"
          ]
        },
        {
          "name": "stderr",
          "output_type": "stream",
          "text": []
        },
        {
          "name": "stdout",
          "output_type": "stream",
          "text": [
            "parveidojums_9 23/50 | train_loss: 1.3237 | val_loss: 1.9125\n"
          ]
        },
        {
          "name": "stderr",
          "output_type": "stream",
          "text": []
        },
        {
          "name": "stdout",
          "output_type": "stream",
          "text": [
            "parveidojums_9 24/50 | train_loss: 1.1694 | val_loss: 1.9007\n"
          ]
        },
        {
          "name": "stderr",
          "output_type": "stream",
          "text": []
        },
        {
          "name": "stdout",
          "output_type": "stream",
          "text": [
            "parveidojums_9 25/50 | train_loss: 1.3191 | val_loss: 1.8783\n"
          ]
        },
        {
          "name": "stderr",
          "output_type": "stream",
          "text": []
        },
        {
          "name": "stdout",
          "output_type": "stream",
          "text": [
            "parveidojums_9 26/50 | train_loss: 1.1722 | val_loss: 1.8752\n"
          ]
        },
        {
          "name": "stderr",
          "output_type": "stream",
          "text": []
        },
        {
          "name": "stdout",
          "output_type": "stream",
          "text": [
            "parveidojums_9 27/50 | train_loss: 1.1810 | val_loss: 1.8415\n"
          ]
        },
        {
          "name": "stderr",
          "output_type": "stream",
          "text": []
        },
        {
          "name": "stdout",
          "output_type": "stream",
          "text": [
            "parveidojums_9 28/50 | train_loss: 1.1610 | val_loss: 1.8218\n"
          ]
        },
        {
          "name": "stderr",
          "output_type": "stream",
          "text": []
        },
        {
          "name": "stdout",
          "output_type": "stream",
          "text": [
            "parveidojums_9 29/50 | train_loss: 1.1065 | val_loss: 1.7994\n"
          ]
        },
        {
          "name": "stderr",
          "output_type": "stream",
          "text": []
        },
        {
          "name": "stdout",
          "output_type": "stream",
          "text": [
            "parveidojums_9 30/50 | train_loss: 1.1847 | val_loss: 1.7950\n"
          ]
        },
        {
          "name": "stderr",
          "output_type": "stream",
          "text": []
        },
        {
          "name": "stdout",
          "output_type": "stream",
          "text": [
            "parveidojums_9 31/50 | train_loss: 1.1721 | val_loss: 1.7909\n"
          ]
        },
        {
          "name": "stderr",
          "output_type": "stream",
          "text": []
        },
        {
          "name": "stdout",
          "output_type": "stream",
          "text": [
            "parveidojums_9 32/50 | train_loss: 1.2320 | val_loss: 1.7876\n"
          ]
        },
        {
          "name": "stderr",
          "output_type": "stream",
          "text": []
        },
        {
          "name": "stdout",
          "output_type": "stream",
          "text": [
            "parveidojums_9 33/50 | train_loss: 1.1432 | val_loss: 1.7546\n"
          ]
        },
        {
          "name": "stderr",
          "output_type": "stream",
          "text": []
        },
        {
          "name": "stdout",
          "output_type": "stream",
          "text": [
            "parveidojums_9 34/50 | train_loss: 1.0791 | val_loss: 1.7333\n"
          ]
        },
        {
          "name": "stderr",
          "output_type": "stream",
          "text": []
        },
        {
          "name": "stdout",
          "output_type": "stream",
          "text": [
            "parveidojums_9 35/50 | train_loss: 1.1059 | val_loss: 1.7082\n"
          ]
        },
        {
          "name": "stderr",
          "output_type": "stream",
          "text": []
        },
        {
          "name": "stdout",
          "output_type": "stream",
          "text": [
            "parveidojums_9 36/50 | train_loss: 1.1303 | val_loss: 1.7036\n"
          ]
        },
        {
          "name": "stderr",
          "output_type": "stream",
          "text": []
        },
        {
          "name": "stdout",
          "output_type": "stream",
          "text": [
            "parveidojums_9 37/50 | train_loss: 1.1653 | val_loss: 1.7100\n"
          ]
        },
        {
          "name": "stderr",
          "output_type": "stream",
          "text": []
        },
        {
          "name": "stdout",
          "output_type": "stream",
          "text": [
            "parveidojums_9 38/50 | train_loss: 0.9869 | val_loss: 1.6821\n"
          ]
        },
        {
          "name": "stderr",
          "output_type": "stream",
          "text": []
        },
        {
          "name": "stdout",
          "output_type": "stream",
          "text": [
            "parveidojums_9 39/50 | train_loss: 0.9863 | val_loss: 1.6583\n"
          ]
        },
        {
          "name": "stderr",
          "output_type": "stream",
          "text": []
        },
        {
          "name": "stdout",
          "output_type": "stream",
          "text": [
            "parveidojums_9 40/50 | train_loss: 0.9895 | val_loss: 1.6281\n"
          ]
        },
        {
          "name": "stderr",
          "output_type": "stream",
          "text": []
        },
        {
          "name": "stdout",
          "output_type": "stream",
          "text": [
            "parveidojums_9 41/50 | train_loss: 1.0390 | val_loss: 1.6240\n"
          ]
        },
        {
          "name": "stderr",
          "output_type": "stream",
          "text": []
        },
        {
          "name": "stdout",
          "output_type": "stream",
          "text": [
            "parveidojums_9 42/50 | train_loss: 1.0206 | val_loss: 1.6165\n"
          ]
        },
        {
          "name": "stderr",
          "output_type": "stream",
          "text": []
        },
        {
          "name": "stdout",
          "output_type": "stream",
          "text": [
            "parveidojums_9 43/50 | train_loss: 0.9430 | val_loss: 1.6038\n"
          ]
        },
        {
          "name": "stderr",
          "output_type": "stream",
          "text": []
        },
        {
          "name": "stdout",
          "output_type": "stream",
          "text": [
            "parveidojums_9 44/50 | train_loss: 1.0518 | val_loss: 1.5760\n"
          ]
        },
        {
          "name": "stderr",
          "output_type": "stream",
          "text": []
        },
        {
          "name": "stdout",
          "output_type": "stream",
          "text": [
            "parveidojums_9 45/50 | train_loss: 0.8934 | val_loss: 1.5566\n"
          ]
        },
        {
          "name": "stderr",
          "output_type": "stream",
          "text": []
        },
        {
          "name": "stdout",
          "output_type": "stream",
          "text": [
            "parveidojums_9 46/50 | train_loss: 1.0490 | val_loss: 1.5649\n"
          ]
        },
        {
          "name": "stderr",
          "output_type": "stream",
          "text": []
        },
        {
          "name": "stdout",
          "output_type": "stream",
          "text": [
            "parveidojums_9 47/50 | train_loss: 0.9688 | val_loss: 1.5850\n"
          ]
        },
        {
          "name": "stderr",
          "output_type": "stream",
          "text": []
        },
        {
          "name": "stdout",
          "output_type": "stream",
          "text": [
            "parveidojums_9 48/50 | train_loss: 0.9846 | val_loss: 1.5878\n"
          ]
        },
        {
          "name": "stderr",
          "output_type": "stream",
          "text": []
        },
        {
          "name": "stdout",
          "output_type": "stream",
          "text": [
            "parveidojums_9 49/50 | train_loss: 0.9668 | val_loss: 1.5915\n",
            "Notika agrā apstāšanās\n",
            "Saglabāts adapteris: parveidojums_9/\n",
            "\n"
          ]
        },
        {
          "name": "stderr",
          "output_type": "stream",
          "text": []
        },
        {
          "name": "stdout",
          "output_type": "stream",
          "text": [
            "parveidojums_10 0/50 | train_loss: 2.2867 | val_loss: 2.3243\n"
          ]
        },
        {
          "name": "stderr",
          "output_type": "stream",
          "text": []
        },
        {
          "name": "stdout",
          "output_type": "stream",
          "text": [
            "parveidojums_10 1/50 | train_loss: 2.2232 | val_loss: 2.3151\n"
          ]
        },
        {
          "name": "stderr",
          "output_type": "stream",
          "text": []
        },
        {
          "name": "stdout",
          "output_type": "stream",
          "text": [
            "parveidojums_10 2/50 | train_loss: 2.2325 | val_loss: 2.2998\n"
          ]
        },
        {
          "name": "stderr",
          "output_type": "stream",
          "text": []
        },
        {
          "name": "stdout",
          "output_type": "stream",
          "text": [
            "parveidojums_10 3/50 | train_loss: 2.2581 | val_loss: 2.2783\n"
          ]
        },
        {
          "name": "stderr",
          "output_type": "stream",
          "text": []
        },
        {
          "name": "stdout",
          "output_type": "stream",
          "text": [
            "parveidojums_10 4/50 | train_loss: 2.2426 | val_loss: 2.2468\n"
          ]
        },
        {
          "name": "stderr",
          "output_type": "stream",
          "text": []
        },
        {
          "name": "stdout",
          "output_type": "stream",
          "text": [
            "parveidojums_10 5/50 | train_loss: 2.2164 | val_loss: 2.2115\n"
          ]
        },
        {
          "name": "stderr",
          "output_type": "stream",
          "text": []
        },
        {
          "name": "stdout",
          "output_type": "stream",
          "text": [
            "parveidojums_10 6/50 | train_loss: 2.1013 | val_loss: 2.1656\n"
          ]
        },
        {
          "name": "stderr",
          "output_type": "stream",
          "text": []
        },
        {
          "name": "stdout",
          "output_type": "stream",
          "text": [
            "parveidojums_10 7/50 | train_loss: 2.2448 | val_loss: 2.1082\n"
          ]
        },
        {
          "name": "stderr",
          "output_type": "stream",
          "text": []
        },
        {
          "name": "stdout",
          "output_type": "stream",
          "text": [
            "parveidojums_10 8/50 | train_loss: 2.0395 | val_loss: 2.0524\n"
          ]
        },
        {
          "name": "stderr",
          "output_type": "stream",
          "text": []
        },
        {
          "name": "stdout",
          "output_type": "stream",
          "text": [
            "parveidojums_10 9/50 | train_loss: 2.1751 | val_loss: 1.9930\n"
          ]
        },
        {
          "name": "stderr",
          "output_type": "stream",
          "text": []
        },
        {
          "name": "stdout",
          "output_type": "stream",
          "text": [
            "parveidojums_10 10/50 | train_loss: 1.8002 | val_loss: 1.9441\n"
          ]
        },
        {
          "name": "stderr",
          "output_type": "stream",
          "text": []
        },
        {
          "name": "stdout",
          "output_type": "stream",
          "text": [
            "parveidojums_10 11/50 | train_loss: 1.5733 | val_loss: 1.9013\n"
          ]
        },
        {
          "name": "stderr",
          "output_type": "stream",
          "text": []
        },
        {
          "name": "stdout",
          "output_type": "stream",
          "text": [
            "parveidojums_10 12/50 | train_loss: 1.5689 | val_loss: 1.8693\n"
          ]
        },
        {
          "name": "stderr",
          "output_type": "stream",
          "text": []
        },
        {
          "name": "stdout",
          "output_type": "stream",
          "text": [
            "parveidojums_10 13/50 | train_loss: 1.7835 | val_loss: 1.8435\n"
          ]
        },
        {
          "name": "stderr",
          "output_type": "stream",
          "text": []
        },
        {
          "name": "stdout",
          "output_type": "stream",
          "text": [
            "parveidojums_10 14/50 | train_loss: 1.6320 | val_loss: 1.8246\n"
          ]
        },
        {
          "name": "stderr",
          "output_type": "stream",
          "text": []
        },
        {
          "name": "stdout",
          "output_type": "stream",
          "text": [
            "parveidojums_10 15/50 | train_loss: 1.4472 | val_loss: 1.8068\n"
          ]
        },
        {
          "name": "stderr",
          "output_type": "stream",
          "text": []
        },
        {
          "name": "stdout",
          "output_type": "stream",
          "text": [
            "parveidojums_10 16/50 | train_loss: 1.3816 | val_loss: 1.7818\n"
          ]
        },
        {
          "name": "stderr",
          "output_type": "stream",
          "text": []
        },
        {
          "name": "stdout",
          "output_type": "stream",
          "text": [
            "parveidojums_10 17/50 | train_loss: 1.4410 | val_loss: 1.7481\n"
          ]
        },
        {
          "name": "stderr",
          "output_type": "stream",
          "text": []
        },
        {
          "name": "stdout",
          "output_type": "stream",
          "text": [
            "parveidojums_10 18/50 | train_loss: 1.4063 | val_loss: 1.7158\n"
          ]
        },
        {
          "name": "stderr",
          "output_type": "stream",
          "text": []
        },
        {
          "name": "stdout",
          "output_type": "stream",
          "text": [
            "parveidojums_10 19/50 | train_loss: 1.2947 | val_loss: 1.6791\n"
          ]
        },
        {
          "name": "stderr",
          "output_type": "stream",
          "text": []
        },
        {
          "name": "stdout",
          "output_type": "stream",
          "text": [
            "parveidojums_10 20/50 | train_loss: 1.2564 | val_loss: 1.6400\n"
          ]
        },
        {
          "name": "stderr",
          "output_type": "stream",
          "text": []
        },
        {
          "name": "stdout",
          "output_type": "stream",
          "text": [
            "parveidojums_10 21/50 | train_loss: 1.2082 | val_loss: 1.6010\n"
          ]
        },
        {
          "name": "stderr",
          "output_type": "stream",
          "text": []
        },
        {
          "name": "stdout",
          "output_type": "stream",
          "text": [
            "parveidojums_10 22/50 | train_loss: 1.1595 | val_loss: 1.5631\n"
          ]
        },
        {
          "name": "stderr",
          "output_type": "stream",
          "text": []
        },
        {
          "name": "stdout",
          "output_type": "stream",
          "text": [
            "parveidojums_10 23/50 | train_loss: 1.2140 | val_loss: 1.5277\n"
          ]
        },
        {
          "name": "stderr",
          "output_type": "stream",
          "text": []
        },
        {
          "name": "stdout",
          "output_type": "stream",
          "text": [
            "parveidojums_10 24/50 | train_loss: 1.1653 | val_loss: 1.4954\n"
          ]
        },
        {
          "name": "stderr",
          "output_type": "stream",
          "text": []
        },
        {
          "name": "stdout",
          "output_type": "stream",
          "text": [
            "parveidojums_10 25/50 | train_loss: 1.0744 | val_loss: 1.4613\n"
          ]
        },
        {
          "name": "stderr",
          "output_type": "stream",
          "text": []
        },
        {
          "name": "stdout",
          "output_type": "stream",
          "text": [
            "parveidojums_10 26/50 | train_loss: 0.9690 | val_loss: 1.4304\n"
          ]
        },
        {
          "name": "stderr",
          "output_type": "stream",
          "text": []
        },
        {
          "name": "stdout",
          "output_type": "stream",
          "text": [
            "parveidojums_10 27/50 | train_loss: 1.2789 | val_loss: 1.4026\n"
          ]
        },
        {
          "name": "stderr",
          "output_type": "stream",
          "text": []
        },
        {
          "name": "stdout",
          "output_type": "stream",
          "text": [
            "parveidojums_10 28/50 | train_loss: 1.0555 | val_loss: 1.3710\n"
          ]
        },
        {
          "name": "stderr",
          "output_type": "stream",
          "text": []
        },
        {
          "name": "stdout",
          "output_type": "stream",
          "text": [
            "parveidojums_10 29/50 | train_loss: 1.0353 | val_loss: 1.3497\n"
          ]
        },
        {
          "name": "stderr",
          "output_type": "stream",
          "text": []
        },
        {
          "name": "stdout",
          "output_type": "stream",
          "text": [
            "parveidojums_10 30/50 | train_loss: 1.0507 | val_loss: 1.3372\n"
          ]
        },
        {
          "name": "stderr",
          "output_type": "stream",
          "text": []
        },
        {
          "name": "stdout",
          "output_type": "stream",
          "text": [
            "parveidojums_10 31/50 | train_loss: 1.0676 | val_loss: 1.3289\n"
          ]
        },
        {
          "name": "stderr",
          "output_type": "stream",
          "text": []
        },
        {
          "name": "stdout",
          "output_type": "stream",
          "text": [
            "parveidojums_10 32/50 | train_loss: 0.9208 | val_loss: 1.3184\n"
          ]
        },
        {
          "name": "stderr",
          "output_type": "stream",
          "text": []
        },
        {
          "name": "stdout",
          "output_type": "stream",
          "text": [
            "parveidojums_10 33/50 | train_loss: 0.9592 | val_loss: 1.3078\n"
          ]
        },
        {
          "name": "stderr",
          "output_type": "stream",
          "text": []
        },
        {
          "name": "stdout",
          "output_type": "stream",
          "text": [
            "parveidojums_10 34/50 | train_loss: 0.9227 | val_loss: 1.2923\n"
          ]
        },
        {
          "name": "stderr",
          "output_type": "stream",
          "text": []
        },
        {
          "name": "stdout",
          "output_type": "stream",
          "text": [
            "parveidojums_10 35/50 | train_loss: 1.0051 | val_loss: 1.2766\n"
          ]
        },
        {
          "name": "stderr",
          "output_type": "stream",
          "text": []
        },
        {
          "name": "stdout",
          "output_type": "stream",
          "text": [
            "parveidojums_10 36/50 | train_loss: 0.9223 | val_loss: 1.2646\n"
          ]
        },
        {
          "name": "stderr",
          "output_type": "stream",
          "text": []
        },
        {
          "name": "stdout",
          "output_type": "stream",
          "text": [
            "parveidojums_10 37/50 | train_loss: 1.0328 | val_loss: 1.2488\n"
          ]
        },
        {
          "name": "stderr",
          "output_type": "stream",
          "text": []
        },
        {
          "name": "stdout",
          "output_type": "stream",
          "text": [
            "parveidojums_10 38/50 | train_loss: 0.9180 | val_loss: 1.2414\n"
          ]
        },
        {
          "name": "stderr",
          "output_type": "stream",
          "text": []
        },
        {
          "name": "stdout",
          "output_type": "stream",
          "text": [
            "parveidojums_10 39/50 | train_loss: 0.8419 | val_loss: 1.2431\n"
          ]
        },
        {
          "name": "stderr",
          "output_type": "stream",
          "text": []
        },
        {
          "name": "stdout",
          "output_type": "stream",
          "text": [
            "parveidojums_10 40/50 | train_loss: 0.8070 | val_loss: 1.2399\n"
          ]
        },
        {
          "name": "stderr",
          "output_type": "stream",
          "text": []
        },
        {
          "name": "stdout",
          "output_type": "stream",
          "text": [
            "parveidojums_10 41/50 | train_loss: 0.7185 | val_loss: 1.2333\n"
          ]
        },
        {
          "name": "stderr",
          "output_type": "stream",
          "text": []
        },
        {
          "name": "stdout",
          "output_type": "stream",
          "text": [
            "parveidojums_10 42/50 | train_loss: 0.8456 | val_loss: 1.2239\n"
          ]
        },
        {
          "name": "stderr",
          "output_type": "stream",
          "text": []
        },
        {
          "name": "stdout",
          "output_type": "stream",
          "text": [
            "parveidojums_10 43/50 | train_loss: 0.7906 | val_loss: 1.2087\n"
          ]
        },
        {
          "name": "stderr",
          "output_type": "stream",
          "text": []
        },
        {
          "name": "stdout",
          "output_type": "stream",
          "text": [
            "parveidojums_10 44/50 | train_loss: 0.8038 | val_loss: 1.1990\n"
          ]
        },
        {
          "name": "stderr",
          "output_type": "stream",
          "text": []
        },
        {
          "name": "stdout",
          "output_type": "stream",
          "text": [
            "parveidojums_10 45/50 | train_loss: 0.8456 | val_loss: 1.2018\n"
          ]
        },
        {
          "name": "stderr",
          "output_type": "stream",
          "text": []
        },
        {
          "name": "stdout",
          "output_type": "stream",
          "text": [
            "parveidojums_10 46/50 | train_loss: 0.9507 | val_loss: 1.2079\n"
          ]
        },
        {
          "name": "stderr",
          "output_type": "stream",
          "text": []
        },
        {
          "name": "stdout",
          "output_type": "stream",
          "text": [
            "parveidojums_10 47/50 | train_loss: 0.7784 | val_loss: 1.2104\n"
          ]
        },
        {
          "name": "stderr",
          "output_type": "stream",
          "text": []
        },
        {
          "name": "stdout",
          "output_type": "stream",
          "text": [
            "parveidojums_10 48/50 | train_loss: 0.8068 | val_loss: 1.2167\n",
            "Notika agrā apstāšanās\n",
            "Saglabāts adapteris: parveidojums_10/\n",
            "\n"
          ]
        }
      ],
      "source": [
        "if finetune:\n",
        "    finetuning_files = [f\"parveidojumi/parveidojums_{i}.csv\" for i in range(1, 11)] # Sagatavo sarakstu ar pārveidojumu piemēru datnēm\n",
        "\n",
        "    for idx, csv_path in enumerate(finetuning_files, start=1):\n",
        "        # Nolasa pielāgošanas datu kopu\n",
        "        finetuning_df = pd.read_csv(csv_path, sep=\";\", encoding=\"utf-8-sig\")\n",
        "\n",
        "        # Sadala pielāgošanas datu kopu 90% apmācībai un 10% validācijai\n",
        "        finetuning_train_df, finetuning_val_df = train_test_split(finetuning_df, test_size=0.1)\n",
        "\n",
        "        # Izveido dataset un dataloader mainīgos\n",
        "        finetuning_train_dataset = WordPairDataset(finetuning_train_df, tokenizer)\n",
        "        finetuning_val_dataset = WordPairDataset(finetuning_val_df, tokenizer)\n",
        "        finetuning_train_loader = DataLoader(finetuning_train_dataset, batch_size=4, shuffle=True, collate_fn=collate_fn)\n",
        "        finetuning_val_loader = DataLoader(finetuning_val_dataset, batch_size=4, shuffle=False, collate_fn=collate_fn)\n",
        "\n",
        "        # Pārrakstām svarus izmantojot pamatapmācīto modeli\n",
        "        model = CustomTransformerModel(vocab_size).to(device)\n",
        "        model.load_state_dict(torch.load(\"Pretrained.pth\", weights_only=True), strict=True)\n",
        "\n",
        "        # Iesaldējam modeļa slāņus\n",
        "        for n, p in model.named_parameters():\n",
        "            p.requires_grad = False\n",
        "\n",
        "        # Izmantojam LoRA modeļa pielāgošanai\n",
        "        lora_cfg = LoraConfig(\n",
        "            r=8,\n",
        "            lora_alpha=16,\n",
        "            lora_dropout=0.1,\n",
        "            target_modules=[\n",
        "              \"decoder.layers.0.linear1\", \"decoder.layers.0.linear2\", \"decoder.layers.0.out_proj\",\n",
        "              \"decoder.layers.1.linear1\", \"decoder.layers.1.linear2\", \"decoder.layers.1.out_proj\",\n",
        "              \"decoder.layers.2.linear1\", \"decoder.layers.2.linear2\", \"decoder.layers.2.out_proj\",\n",
        "              \"decoder.layers.3.linear1\", \"decoder.layers.3.linear2\", \"decoder.layers.3.out_proj\", \"fc_out\"\n",
        "            ]\n",
        "        )\n",
        "        model = get_peft_model(model, lora_cfg)\n",
        "\n",
        "        # Parametri pielāgošanas procesam\n",
        "        num_finetune_epochs = 50 # Maksimālais daudzums\n",
        "        trainable = filter(lambda p: p.requires_grad, model.parameters())\n",
        "        optimizer = torch.optim.AdamW(trainable, lr=5e-4)\n",
        "        scheduler = None\n",
        "        model.zero_grad()\n",
        "\n",
        "        # Pielāgošana ar agrās apstāšanās kontroli\n",
        "        train_and_validate(f\"parveidojums_{idx}\", finetuning_train_loader, finetuning_val_loader, optimizer, epochs=num_finetune_epochs, patience=4)\n",
        "\n",
        "        # Saglabā PEFT adapteri ar unikālu nosaukumu\n",
        "        save_dir = f\"parveidojums_{idx}\"\n",
        "        model.save_pretrained(save_dir)\n",
        "        print(f\"Saglabāts adapteris: {save_dir}/\\n\")"
      ]
    },
    {
      "cell_type": "markdown",
      "metadata": {
        "id": "d6kacM9San07"
      },
      "source": [
        "# Darbā definētās metodes izpilde"
      ]
    },
    {
      "cell_type": "code",
      "execution_count": 10,
      "metadata": {
        "colab": {
          "base_uri": "https://localhost:8080/"
        },
        "id": "Qz2U-zuNap0l",
        "outputId": "bba71af8-b2b0-4d55-850f-c9bb1f4676d8"
      },
      "outputs": [
        {
          "name": "stderr",
          "output_type": "stream",
          "text": [
            "/usr/local/lib/python3.10/dist-packages/torch/nn/modules/transformer.py:502: UserWarning: The PyTorch API of nested tensors is in prototype stage and will change in the near future. (Triggered internally at ../aten/src/ATen/NestedTensorImpl.cpp:178.)\n",
            "  output = torch._nested_tensor_from_mask(\n"
          ]
        },
        {
          "name": "stdout",
          "output_type": "stream",
          "text": [
            "veikt, Darīt, Rezultāts, ['veikums', 'veicums', 'veiks', 'veikba', 'veiciekums']\n",
            "zvaigzne, Priekšmets, Ietver nosaukto, ['zvaigžņots', 'zvaigžņains', 'zvaigznins', 'zvaigznots', 'zvaigznains']\n",
            "pūst, Būt procesā, Process, ['pūšana', 'pūšanās', 'pūsta', 'pūšanā', 'pūšanām']\n",
            "riebt, Būt stāvoklī, Stāvoklis, ['riebšana', 'rieba', 'riebta', 'riebdana', 'riebšanas']\n",
            "medicīna, Abstrakts nojēgums, Saistīts ar nosaukto, ['medicīns', 'medicīnis', 'medicīnsks', 'medicīnisks', 'medicīnējs']\n",
            "skriet, Darīt, Darītājs (dzīvs), ['skrienējs', 'skrienētājs', 'skrienis', 'skrietājs', 'skriecējs']\n",
            "ideja, Abstrakts nojēgums, Saistīts ar nosaukto, ['ides', 'idesks', 'idejs', 'idejis', 'idejēs']\n",
            "nest, Darīt, Darbība, ['nesīšana', 'nesta', 'nesšana', 'nestu', 'nests']\n",
            "iet, Būt procesā, Process, ['iešana', 'ieta', 'iešanā', 'iešanās', 'iets']\n",
            "ir, Būt stāvoklī, Stāvoklis, ['ires', 'iru', 'irā', 'ira', 'iri']\n",
            "atklusināt, Darīt, Instruments, ['atklusinātājs', 'atklusinājs', 'atklusināts', 'atklusinātājjs', 'atklusinātājis']\n",
            "sejauts, Priekšmets, Ietver nosaukto, ['sejautains', 'sejautots', 'sejauto', 'sejautos', 'sejautons']\n",
            "telpiskot, Būt procesā, Process, ['telpiskošana', 'telpiskota', 'telpiskoja', 'telpiskošanās', 'telpiskošanā']\n",
            "sliecināt, Būt stāvoklī, Stāvoklis, ['sliecināšana', 'sliecina', 'sliecināja', 'sliecināta', 'sliecināšanā']\n",
            "aizstājeklis, Abstrakts nojēgums, Saistīts ar nosaukto, ['aizstāsks', 'aizstājekļiem', 'aizstājekļis', 'aizstājeklisks', 'aizstājekļi']\n",
            "tērbstīt, Darīt, Vieta (lietv), ['tērbstīta', 'tērbstītava', 'tērbstītavava', 'tērbstīts', 'tērbstītie']\n",
            "plakstule, Priekšmets, Ietver nosaukto, ['plakstulins', 'plakstuleins', 'plakstuļots', 'plakstulots', 'plakstulē']\n",
            "glimžēt, Būt procesā, Process, ['glimžam', 'glimžama', 'glimžams', 'glimžēšana', 'glimžana']\n",
            "skurpelīgs, Būt stāvoklī, Stāvoklis, ['skurpelīga', 'skurpelīgā', 'skurpelīgu', 'skurpelīgāka', 'skurpelīgas']\n",
            "zvilgsme, Abstrakts nojēgums, Saistīts ar nosaukto, ['zvilgsmisks', 'zvilgsmes', 'zvilgsmis', 'zvilgsmišķs', 'zvilgsmei']\n",
            "Rezultāti saglabāti TSV failā: special_model_results.tsv\n"
          ]
        }
      ],
      "source": [
        "if experiment:\n",
        "    # Vērtēšanas datu kopa formātā <lemma, lemmu grupas apzīmējums, sākotnējā semantiskā kategorija, mērķa semantiskā kategorija>\n",
        "    lemmas = [\n",
        "        (\"veikt\", \"V\", \"Darīt\", \"Rezultāts\"),\n",
        "        (\"zvaigzne\", \"V\", \"Priekšmets\", \"Ietver nosaukto\"),\n",
        "        (\"pūst\", \"V\", \"Būt procesā\", \"Process\"),\n",
        "        (\"riebt\", \"V\", \"Būt stāvoklī\", \"Stāvoklis\"),\n",
        "        (\"medicīna\", \"V\", \"Abstrakts nojēgums\", \"Saistīts ar nosaukto\"),\n",
        "        (\"skriet\", \"V\", \"Darīt\", \"Darītājs (dzīvs)\"),\n",
        "        (\"ideja\", \"V\", \"Abstrakts nojēgums\", \"Saistīts ar nosaukto\"),\n",
        "\n",
        "        (\"nest\", \"I\", \"Darīt\", \"Darbība\"),\n",
        "        (\"iet\", \"I\", \"Būt procesā\", \"Process\"),\n",
        "        (\"ir\", \"I\", \"Būt stāvoklī\", \"Stāvoklis\"),\n",
        "\n",
        "        (\"atklusināt\", \"J\", \"Darīt\", \"Instruments\"),\n",
        "        (\"sejauts\", \"J\", \"Priekšmets\", \"Ietver nosaukto\"),\n",
        "        (\"telpiskot\", \"J\", \"Būt procesā\", \"Process\"),\n",
        "        (\"sliecināt\", \"J\", \"Būt stāvoklī\", \"Stāvoklis\"),\n",
        "        (\"aizstājeklis\", \"J\", \"Abstrakts nojēgums\", \"Saistīts ar nosaukto\"),\n",
        "\n",
        "        (\"tērbstīt\", \"N\", \"Darīt\", \"Vieta (lietv)\"),\n",
        "        (\"plakstule\", \"N\", \"Priekšmets\", \"Ietver nosaukto\"),\n",
        "        (\"glimžēt\", \"N\", \"Būt procesā\", \"Process\"),\n",
        "        (\"skurpelīgs\", \"N\", \"Būt stāvoklī\", \"Stāvoklis\"),\n",
        "        (\"zvilgsme\", \"N\", \"Abstrakts nojēgums\", \"Saistīts ar nosaukto\")\n",
        "    ]\n",
        "\n",
        "    # Iespējamie pārveidojumu veidi\n",
        "    POSSIBLE_TRANSFORMATIONS = [\n",
        "        (\"Darīt\", \"Darbība\"),\n",
        "        (\"Darīt\", \"Rezultāts\"),\n",
        "        (\"Darīt\", \"Darītājs (dzīvs)\"),\n",
        "        (\"Priekšmets\", \"Ietver nosaukto\"),\n",
        "        (\"Būt procesā\", \"Process\"),\n",
        "        (\"Būt stāvoklī\", \"Stāvoklis\"),\n",
        "        (\"Abstrakts nojēgums\", \"Saistīts ar nosaukto\"),\n",
        "        (\"Darīt\", \"Vieta (lietv)\"),\n",
        "        (\"Darīt\", \"Cits\"),\n",
        "        (\"Darīt\", \"Instruments\")\n",
        "    ]\n",
        "\n",
        "    _model_cache = {}\n",
        "\n",
        "    # Funkcija, kas automātiski izvēlas modeli atbilstoši pārveidojumam\n",
        "    def get_finetuned_model(semantic_category_1, semantic_category_2):\n",
        "        try:\n",
        "            idx = POSSIBLE_TRANSFORMATIONS.index((semantic_category_1, semantic_category_2))\n",
        "        except ValueError:\n",
        "            return None\n",
        "\n",
        "        ckpt = f\"parveidojums_{idx+1}\"\n",
        "\n",
        "        # Ja modelis jau nav saglabāts kešatmiņā, tad saglabā, lai vēlāk atkārtoti to izmantotu\n",
        "        if ckpt not in _model_cache:\n",
        "            # Ielādē bāzes svarus\n",
        "            base = CustomTransformerModel(vocab_size).to(device)\n",
        "            base.load_state_dict(torch.load(\"Pretrained.pth\", map_location=device, weights_only=True), strict=True)\n",
        "\n",
        "            # Pieliek PEFT adapteri, kas glabājas mapē `ckpt`\n",
        "            m = PeftModel.from_pretrained(base, ckpt, local_files_only=True, is_trainable=False).to(device)\n",
        "            m.eval()\n",
        "            _model_cache[ckpt] = m\n",
        "        return _model_cache[ckpt]\n",
        "\n",
        "    # Funkcija, kas validē kandidātu, izmantojot korpusa API\n",
        "    def validate_word(word):\n",
        "        encoded_word = urllib.parse.quote(word)\n",
        "        url = (\"https://nosketch.korpuss.lv/bonito/run.cgi/view?\"\n",
        "              \"corpname=CommonCrawl&format=json&pagesize=2&fromp=0&attrs=word&\"\n",
        "              \"ctxattrs=word%2Ctag&kwicleftctx=5%23&kwicrightctx=5%23&async=0&\"\n",
        "              f\"q=q[lc%3D%22{encoded_word}%22+|+lemma_lc%3D%22{encoded_word}%22]\")\n",
        "\n",
        "        try:\n",
        "            r = requests.get(url, timeout=10)\n",
        "            if r.status_code == 200:\n",
        "                freq = r.json().get(\"fullsize\", 0)\n",
        "                if freq == 0:\n",
        "                    typ = \"F\" # nav sastopams\n",
        "                elif 1 <= freq <= 5:\n",
        "                    typ = \"M\" # maz sastopams - nepieciešama manuāla pārbaude\n",
        "                else:\n",
        "                    typ = \"T\" # daudz sastopams\n",
        "                return typ, freq\n",
        "            return \"validation_error\", None\n",
        "        except Exception as e:\n",
        "            print(f\"Validācijas kļūda vārdam '{word}': {e}\")\n",
        "            return \"validation_error\", None\n",
        "\n",
        "    results = []\n",
        "\n",
        "    # Iterē caur katru derivējamo lemmu\n",
        "    for lemma in lemmas:\n",
        "        word = lemma[0]\n",
        "        semantic_category_1 = lemma[2]\n",
        "        semantic_category_2 = lemma[3]\n",
        "\n",
        "        model = get_finetuned_model(semantic_category_1, semantic_category_2)\n",
        "\n",
        "        if model is None:\n",
        "            print(f\"Nav modeļa pārveidojumam ({semantic_category_1}→{semantic_category_2})\")\n",
        "            continue\n",
        "\n",
        "        src_tok = torch.tensor([tokenizer.encode(word)]).to(device)\n",
        "        response = beam_generate(model, src_tok, num_beams=5)\n",
        "        print(f\"{lemma[0]}, {lemma[2]}, {lemma[3]}, {response}\")\n",
        "\n",
        "        # Validē katru kandidātu pret korpusu kolekciju un pievieno rezultātu sarakstam\n",
        "        for cand in response:\n",
        "            typ, freq = validate_word(cand)\n",
        "            results.append({\n",
        "                \"Lemma\": word,\n",
        "                \"Semantiskā_kat_1\": semantic_category_1,\n",
        "                \"Kandidāts\": cand,\n",
        "                \"Semantiskā_kat_2\": semantic_category_2,\n",
        "                \"Biežums\": freq,\n",
        "                \"Tips\": typ,\n",
        "                \"Grupa\": lemma[1]\n",
        "            })\n",
        "\n",
        "    # Saglabā rezultātus TSV failā, kas ir formātā '<metode/modelis>.tsv'\n",
        "    output_tsv = f\"special_model_results.tsv\"\n",
        "\n",
        "    with open(output_tsv, \"w\", newline=\"\", encoding=\"utf-8-sig\") as tsvfile:\n",
        "        writer = csv.writer(tsvfile, delimiter=\"\\t\")\n",
        "        header = [\"Lemma\", \"Semantiskā_kat_1\", \"Kandidāts\", \"Semantiskā_kat_2\", \"Biežums\", \"Tips\", \"Grupa\"]\n",
        "        writer.writerow(header)\n",
        "\n",
        "        for row in results:\n",
        "            out_row = [row[\"Lemma\"], row[\"Semantiskā_kat_1\"], row[\"Kandidāts\"], row[\"Semantiskā_kat_2\"],\n",
        "                      row[\"Biežums\"], row[\"Tips\"], row[\"Grupa\"]]\n",
        "            writer.writerow(out_row)\n",
        "\n",
        "    print(f\"Rezultāti saglabāti TSV failā: {output_tsv}\")"
      ]
    },
    {
      "cell_type": "markdown",
      "metadata": {
        "id": "0N1qgg68F1TD"
      },
      "source": [
        "# Pamattrenētā modeļa vispārīga pārbaude"
      ]
    },
    {
      "cell_type": "code",
      "execution_count": 18,
      "metadata": {
        "colab": {
          "base_uri": "https://localhost:8080/"
        },
        "id": "lv2YO43PF4rQ",
        "outputId": "86baf25f-9eae-4b91-d233-e3577a3b4729"
      },
      "outputs": [
        {
          "name": "stdout",
          "output_type": "stream",
          "text": [
            "Ievadi lemmu: rakstīt\n",
            "['raksta', 'rakstīja', 'rakstīta', 'rakstītas', 'rakstīts']\n"
          ]
        }
      ],
      "source": [
        "# Lietotāja ievade\n",
        "user_input = input(\"Ievadi lemmu: \")\n",
        "\n",
        "model = CustomTransformerModel(vocab_size).to(device)\n",
        "model.load_state_dict(torch.load(\"Pretrained.pth\", weights_only=True), strict=True)\n",
        "\n",
        "# Ievades secība dalīšana tekstvienībās\n",
        "src_tok = torch.tensor([tokenizer.encode(user_input)]).to(device)\n",
        "\n",
        "# Ģenerējam 5 kandidātus\n",
        "print(beam_generate(model, src_tok, num_beams=5))"
      ]
    }
  ],
  "metadata": {
    "colab": {
      "collapsed_sections": [
        "9MNCmrQnZyKW",
        "0hFJ41GAMUG8",
        "aCa-i1h9aUU1",
        "4ZU9LS08Mt5M",
        "GMYE_4Zzfprz",
        "_PywM8aQMmTu"
      ],
      "provenance": []
    },
    "kernelspec": {
      "display_name": "Python 3",
      "name": "python3"
    },
    "language_info": {
      "name": "python"
    }
  },
  "nbformat": 4,
  "nbformat_minor": 0
}
